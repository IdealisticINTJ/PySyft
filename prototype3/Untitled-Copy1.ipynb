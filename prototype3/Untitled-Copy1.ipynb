{
 "cells": [
  {
   "cell_type": "markdown",
   "id": "84f57893-55a8-4e0d-aa34-54e224283196",
   "metadata": {},
   "source": [
    "# Initial Setup"
   ]
  },
  {
   "cell_type": "markdown",
   "id": "1fc9248f-d0d9-418c-872a-8798ddad755e",
   "metadata": {},
   "source": [
    "For today, redo this with another prototype, but instead of building one \"SyftBox\", try instead to create an app that will load up a bunch of \"watchers\". And then start adding watchers which do things like file syncing, patch creation, etc."
   ]
  },
  {
   "cell_type": "code",
   "execution_count": null,
   "id": "895e27a7-473f-4de1-b81c-b4fc7db8263e",
   "metadata": {},
   "outputs": [],
   "source": []
  },
  {
   "cell_type": "code",
   "execution_count": null,
   "id": "dd2e3af7-fd24-43c9-a2aa-0d95ebebd8dd",
   "metadata": {},
   "outputs": [],
   "source": []
  },
  {
   "cell_type": "code",
   "execution_count": null,
   "id": "55f56384-e6da-47a2-9538-0c5a9261c658",
   "metadata": {},
   "outputs": [],
   "source": []
  },
  {
   "cell_type": "code",
   "execution_count": 1,
   "id": "50dc45f0-b28f-4b36-b1e3-4e61d91238b4",
   "metadata": {},
   "outputs": [],
   "source": [
    "import os\n",
    "import shutil\n",
    "import argparse\n",
    "import rumps\n",
    "import requests\n",
    "from watchdog.observers import Observer\n",
    "from watchdog.events import FileSystemEventHandler\n",
    "from utils import (get_or_initialize_git_repo, ensure_branches_for_directories, apply_ignore_rule_to_all_branches,\n",
    "                   delete_main_branch, get_syft_config, check_or_create_keypair,\n",
    "                   navigate_to_root_datasite_and_ensure_syftperm_files_tracked, navigate_to_root_datasite_and_commit_changes,\n",
    "                   create_and_apply_patches_for_new_files)\n"
   ]
  },
  {
   "cell_type": "code",
   "execution_count": 12,
   "id": "09ef6ee3-3863-4377-9e2e-d33d6f160835",
   "metadata": {},
   "outputs": [
    {
     "name": "stdout",
     "output_type": "stream",
     "text": [
      "This directory is already a Git repository.\n"
     ]
    }
   ],
   "source": [
    "# Initialize the repository using get_or_initialize_git_repo()\n",
    "repo = get_or_initialize_git_repo(\"/Users/atrask/SyftBox\")"
   ]
  },
  {
   "cell_type": "code",
   "execution_count": 17,
   "id": "61e42a61-da4d-494a-a2cc-1520d92775f3",
   "metadata": {},
   "outputs": [],
   "source": [
    "outbox_dir=\"/Users/atrask/SyftBox/outbox\""
   ]
  },
  {
   "cell_type": "code",
   "execution_count": 21,
   "id": "e24b8a7f-c788-4c06-a554-ba9b1499ecef",
   "metadata": {},
   "outputs": [
    {
     "name": "stdout",
     "output_type": "stream",
     "text": [
      "Branch 'andrew@syft_cache.org' already exists.\n"
     ]
    }
   ],
   "source": [
    "ensure_branches_for_directories(repo)"
   ]
  },
  {
   "cell_type": "code",
   "execution_count": 19,
   "id": "2064ad62-2541-4316-9e23-5013d21cbf62",
   "metadata": {},
   "outputs": [
    {
     "name": "stdout",
     "output_type": "stream",
     "text": [
      "Navigated to the correct branch: andrew@syft_cache.org\n",
      "File '/Users/atrask/SyftBox/andrew@syft_cache.org/public_key.pem' is already tracked by the branch 'andrew@syft_cache.org'.\n",
      "File '/Users/atrask/SyftBox/andrew@syft_cache.org/hello.txt' is already tracked by the branch 'andrew@syft_cache.org'.\n",
      "Navigated to the correct branch: andrew@syft_cache.org\n",
      "No changes to commit in branch 'andrew@syft_cache.org'.\n"
     ]
    }
   ],
   "source": [
    "navigate_to_root_datasite_and_ensure_syftperm_files_tracked(repo)\n",
    "navigate_to_root_datasite_and_commit_changes(repo)"
   ]
  },
  {
   "cell_type": "code",
   "execution_count": 20,
   "id": "3c1b11c6-1ac4-4719-96ff-e528f12b992e",
   "metadata": {},
   "outputs": [
    {
     "name": "stdout",
     "output_type": "stream",
     "text": [
      "checking out my_datasite_branch:andrew@syft_cache.org\n",
      "Comparing branch 'andrew@syft_cache.org' with 'madhava@syft_cache.org'...\n",
      "Creating patch for file 'andrew@syft_cache.org/hello.txt' to branch 'madhava@syft_cache.org'...\n",
      "Generating patch for file: andrew@syft_cache.org/hello.txt\n",
      "No diff found for file 'andrew@syft_cache.org/hello.txt' between 'andrew@syft_cache.org' and 'madhava@syft_cache.org'.\n",
      "Generating deletion patch for branch: madhava@syft_cache.org\n",
      "No deletions found between 'andrew@syft_cache.org' and 'madhava@syft_cache.org'.\n",
      "Returned to the 'andrew@syft_cache.org' branch.\n"
     ]
    }
   ],
   "source": [
    "create_and_apply_patches_for_new_files(repo, outbox_dir=\"/Users/atrask/SyftBox/outbox\")"
   ]
  },
  {
   "cell_type": "code",
   "execution_count": null,
   "id": "76846e17-d438-4c2c-a84a-6d2240c412c6",
   "metadata": {},
   "outputs": [],
   "source": []
  },
  {
   "cell_type": "code",
   "execution_count": null,
   "id": "97060f60-285f-48ce-a0f3-f3f659d6780b",
   "metadata": {},
   "outputs": [],
   "source": []
  },
  {
   "cell_type": "code",
   "execution_count": null,
   "id": "f65ff85e-140c-49fd-9502-105e2a8eb16f",
   "metadata": {},
   "outputs": [],
   "source": []
  },
  {
   "cell_type": "code",
   "execution_count": null,
   "id": "9d694fe9-8c3c-4107-9e1d-068618920acf",
   "metadata": {},
   "outputs": [],
   "source": []
  },
  {
   "cell_type": "code",
   "execution_count": null,
   "id": "d332961d-0c4c-4277-909f-57e158eeb38a",
   "metadata": {},
   "outputs": [],
   "source": []
  },
  {
   "cell_type": "code",
   "execution_count": null,
   "id": "265d8df3-9283-44c9-9f47-33cf910f0044",
   "metadata": {},
   "outputs": [],
   "source": []
  },
  {
   "cell_type": "code",
   "execution_count": 367,
   "id": "9d24d4d8-baff-438d-bd20-8f43ecec744b",
   "metadata": {},
   "outputs": [
    {
     "name": "stdout",
     "output_type": "stream",
     "text": [
      "This directory is already a Git repository.\n",
      "Branch 'madhava@syft_cache.org' already exists.\n",
      "Branch 'andrew@syft_cache.org' already exists.\n",
      "Checked out branch: andrew@syft_cache.org\n",
      "Ignore rule for postfix '.patch' already exists in ./.gitignore\n",
      "An error occurred while applying ignore rules to all branches: Cmd('git') failed due to: exit code(1)\n",
      "  cmdline: git checkout madhava@syft_cache.org\n",
      "  stderr: 'error: Your local changes to the following files would be overwritten by checkout:\n",
      "\tUntitled.ipynb\n",
      "Please commit your changes or stash them before you switch branches.\n",
      "Aborting'\n",
      "Checked out branch: andrew@syft_cache.org\n",
      "Ignore rule for postfix 'outbox' already exists in ./.gitignore\n",
      "An error occurred while applying ignore rules to all branches: Cmd('git') failed due to: exit code(1)\n",
      "  cmdline: git checkout madhava@syft_cache.org\n",
      "  stderr: 'error: Your local changes to the following files would be overwritten by checkout:\n",
      "\tUntitled.ipynb\n",
      "Please commit your changes or stash them before you switch branches.\n",
      "Aborting'\n",
      "'main' branch does not exist.\n",
      "'syft.config' found in branch 'andrew@syft_cache.org'\n",
      "The datasite name is: andrew@syft_cache.org\n",
      "Public and private keypair already exists.\n"
     ]
    }
   ],
   "source": [
    "\n",
    "\n",
    "\n",
    "# Ensure that there is a branch corresponding to each top-level directory and apply ignore rules\n",
    "if repo:\n",
    "    ensure_branches_for_directories(repo)\n",
    "    # apply_ignore_rule_to_all_branches(repo, '.syftperm')\n",
    "    # apply_ignore_rule_to_all_branches(repo, '.ipynb')\n",
    "    apply_ignore_rule_to_all_branches(repo, '.patch')    \n",
    "    apply_ignore_rule_to_all_branches(repo, 'outbox')    \n",
    "    delete_main_branch(repo)  # Safely delete the 'main' branch if it exists\n",
    "    datasite_name = get_syft_config(repo)\n",
    "    print(f\"The datasite name is: {datasite_name}\")\n",
    "    check_or_create_keypair(repo, datasite_name)"
   ]
  },
  {
   "cell_type": "code",
   "execution_count": 87,
   "id": "4336567f-6978-480f-ae20-369f24cbe774",
   "metadata": {},
   "outputs": [
    {
     "name": "stdout",
     "output_type": "stream",
     "text": [
      "Public and private keypair already exists.\n"
     ]
    }
   ],
   "source": [
    "check_or_create_keypair(repo, datasite_name)"
   ]
  },
  {
   "cell_type": "code",
   "execution_count": 92,
   "id": "888cd3b6-7c9f-4b7a-8b60-72d687ff2de9",
   "metadata": {},
   "outputs": [
    {
     "name": "stdout",
     "output_type": "stream",
     "text": [
      "Branch 'madhava@syft_cache.org' already exists.\n",
      "Branch 'andrew@syft_cache.org' already exists.\n"
     ]
    }
   ],
   "source": [
    "ensure_branches_for_directories(repo)"
   ]
  },
  {
   "cell_type": "code",
   "execution_count": 98,
   "id": "9450c6bd-6ac7-472f-8f4d-0f4709afea50",
   "metadata": {},
   "outputs": [
    {
     "name": "stdout",
     "output_type": "stream",
     "text": [
      "Navigated to the correct branch: andrew@syft_cache.org\n",
      "File '/Users/atrask/SyftBox/andrew@syft_cache.org/public_key.pem' is already tracked by the branch 'andrew@syft_cache.org'.\n",
      "File '/Users/atrask/SyftBox/andrew@syft_cache.org/hello.txt' is not tracked. Tracking it now...\n",
      "An error occurred while tracking files: SHA b'a6c14d315224deb9e7de6b80d595cca2a1bd5352' could not be resolved, git returned: b'a6c14d315224deb9e7de6b80d595cca2a1bd5352 missing'\n"
     ]
    }
   ],
   "source": [
    "navigate_to_root_datasite_and_ensure_syftperm_files_tracked(repo)"
   ]
  },
  {
   "cell_type": "code",
   "execution_count": 96,
   "id": "7dc36809-78aa-49a3-a3b4-3e62b866a860",
   "metadata": {},
   "outputs": [
    {
     "name": "stdout",
     "output_type": "stream",
     "text": [
      "Navigated to the correct branch: andrew@syft_cache.org\n",
      "Changes to be staged:\n",
      "A  andrew@syft_cache.org/hello.txt\n",
      "A  andrew@syft_cache.org/hello.txt.syftperm\n",
      "Staging all changes in branch 'andrew@syft_cache.org'...\n",
      "An error occurred: SHA b'240948bbd3e27cd30c59abf239a2b4feaa95b8fe' could not be resolved, git returned: b'240948bbd3e27cd30c59abf239a2b4feaa95b8fe missing'\n"
     ]
    }
   ],
   "source": [
    "\n",
    "navigate_to_root_datasite_and_commit_changes(repo)"
   ]
  },
  {
   "cell_type": "code",
   "execution_count": 97,
   "id": "da4bd0f6-3ea0-46f2-bf72-467a5d11bd74",
   "metadata": {},
   "outputs": [
    {
     "name": "stdout",
     "output_type": "stream",
     "text": [
      "checking out my_datasite_branch:andrew@syft_cache.org\n",
      "Comparing branch 'andrew@syft_cache.org' with 'madhava@syft_cache.org'...\n",
      "Generating deletion patch for branch: madhava@syft_cache.org\n",
      "No deletions found between 'andrew@syft_cache.org' and 'madhava@syft_cache.org'.\n",
      "Returned to the 'andrew@syft_cache.org' branch.\n"
     ]
    }
   ],
   "source": [
    "create_and_apply_patches_for_new_files(repo, outbox_dir=\"outbox\")"
   ]
  },
  {
   "cell_type": "code",
   "execution_count": null,
   "id": "4cfd09f0-044e-44df-9000-af8ed6c42a95",
   "metadata": {},
   "outputs": [],
   "source": []
  },
  {
   "cell_type": "code",
   "execution_count": null,
   "id": "4132411b-3f5d-4ede-af17-7f6696c8693f",
   "metadata": {},
   "outputs": [],
   "source": []
  }
 ],
 "metadata": {
  "kernelspec": {
   "display_name": "Python 3 (ipykernel)",
   "language": "python",
   "name": "python3"
  },
  "language_info": {
   "codemirror_mode": {
    "name": "ipython",
    "version": 3
   },
   "file_extension": ".py",
   "mimetype": "text/x-python",
   "name": "python",
   "nbconvert_exporter": "python",
   "pygments_lexer": "ipython3",
   "version": "3.10.9"
  }
 },
 "nbformat": 4,
 "nbformat_minor": 5
}
