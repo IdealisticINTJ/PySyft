{
 "cells": [
  {
   "cell_type": "code",
   "execution_count": null,
   "id": "0",
   "metadata": {},
   "outputs": [],
   "source": [
    "from enum import Enum\n",
    "from pathlib import Path\n",
    "\n",
    "from pydantic import BaseModel\n",
    "from wcmatch import glob"
   ]
  },
  {
   "cell_type": "markdown",
   "id": "1",
   "metadata": {},
   "source": [
    "Assumptions (easy to change)\n",
    "- I assume that we are storing rules instead of direct file permissions (because of create, you need to store rules anyway)\n",
    "When we create: we need to match patterns like `**/*.txt` against non existing paths. Therefore it would be challenging to only store permissions for a predefined path in the database. Therefore, we also need to store the rules, containing abstract paths\n",
    "\n",
    "\n",
    "- I assume all rules are of the same format\n",
    "- if a permfile lower in the tree defines a lower permission, its not overwritten, instead its the union\n",
    "- in the future we can use disallow if you want to restrict permissions from a permfile higher in the tree (out of scope for this prototype)"
   ]
  },
  {
   "cell_type": "markdown",
   "id": "2",
   "metadata": {},
   "source": [
    "rule types:"
   ]
  },
  {
   "cell_type": "markdown",
   "id": "3",
   "metadata": {},
   "source": [
    "```\n",
    "admin: x@openmined.org\n",
    "create: *\n",
    "\n",
    "\n",
    "- rule\n",
    "  - glob:*\n",
    "  - user:x@openmined.org\n",
    "  - type: allow\n",
    "```"
   ]
  },
  {
   "cell_type": "markdown",
   "id": "4",
   "metadata": {},
   "source": [
    "TODO:\n",
    "- decide, do we want to allow for patterns like ../../*"
   ]
  },
  {
   "cell_type": "code",
   "execution_count": null,
   "id": "5",
   "metadata": {},
   "outputs": [],
   "source": [
    "class PermissionType(Enum):\n",
    "    CREATE = 1\n",
    "    READ = 2\n",
    "    WRITE = 3\n",
    "    ADMIN = 4\n",
    "\n",
    "\n",
    "class PermissionRule(BaseModel):\n",
    "    dir_path: Path  # where does this permfile live\n",
    "    path_pattern: str  # what paths does it apply to (e.g. **/*.txt)\n",
    "    user: str  # can be *,\n",
    "    permtype: PermissionType  # read/write/create/admin\n",
    "\n",
    "    @property\n",
    "    def has_email_template(self):\n",
    "        return \"{useremail}\" in self.path_pattern\n",
    "\n",
    "    def resolve_path_pattern(self, email):\n",
    "        return self.path_pattern.replace(\"{useremail}\", email)"
   ]
  },
  {
   "cell_type": "markdown",
   "id": "6",
   "metadata": {},
   "source": [
    "lets assume this directory structure"
   ]
  },
  {
   "cell_type": "markdown",
   "id": "7",
   "metadata": {},
   "source": [
    "```\n",
    "owner@datasite.org\n",
    "├── folder1\n",
    "│   ├── syftperm.yml \n",
    "│   ├── folder2\n",
    "│   │   ├── syftperm.yml \n",
    "```"
   ]
  },
  {
   "cell_type": "markdown",
   "id": "8",
   "metadata": {},
   "source": [
    "Lets say looks like this owner@datasite.org/folder1/.syftperm\n",
    "\n",
    "```\n",
    "- rule\n",
    "  - glob:*/*\n",
    "  - user:user@example.org\n",
    "  - permission: write\n",
    "  - type: allow # we dont use this right now\n",
    "\n",
    "- rule\n",
    "  - glob: {useremail}/*\n",
    "  - user: *\n",
    "  - permission: create\n",
    "  - type: allow # we dont use this right now\n",
    "\n",
    "```\n"
   ]
  },
  {
   "cell_type": "markdown",
   "id": "9",
   "metadata": {},
   "source": [
    "Lets assume we have more files, but we can extract some rules:"
   ]
  },
  {
   "cell_type": "code",
   "execution_count": null,
   "id": "10",
   "metadata": {},
   "outputs": [],
   "source": [
    "rule_table = [\n",
    "    PermissionRule(dir_path=\"owner@datasite.org\", path_pattern=\"*.txt\", user=\"*\", permtype=PermissionType.ADMIN),\n",
    "    PermissionRule(\n",
    "        dir_path=\"owner@datasite.org/folder1\",\n",
    "        path_pattern=\"*/*\",\n",
    "        user=\"user@example.org\",\n",
    "        permtype=PermissionType.WRITE,\n",
    "    ),\n",
    "    PermissionRule(\n",
    "        dir_path=\"owner@datasite.org/folder1\",  # we can have multiple rules on one level\n",
    "        path_pattern=\"{useremail}/*\",\n",
    "        user=\"*\",\n",
    "        permtype=PermissionType.CREATE,\n",
    "    ),\n",
    "    PermissionRule(\n",
    "        dir_path=\"owner@datasite.org/folder1/folder2\", path_pattern=\"*.txt\", user=\"*\", permtype=PermissionType.READ\n",
    "    ),\n",
    "]"
   ]
  },
  {
   "cell_type": "code",
   "execution_count": null,
   "id": "11",
   "metadata": {},
   "outputs": [],
   "source": [
    "def get_rules_for_path(path: Path):\n",
    "    # TODO: all the rules in that branch of the tree\n",
    "    return rule_table"
   ]
  },
  {
   "cell_type": "code",
   "execution_count": null,
   "id": "12",
   "metadata": {},
   "outputs": [],
   "source": [
    "# util\n",
    "def issubpath(path1, path2):\n",
    "    return path1 in path2.parents"
   ]
  },
  {
   "cell_type": "code",
   "execution_count": null,
   "id": "13",
   "metadata": {},
   "outputs": [],
   "source": [
    "class ComputedPermission(BaseModel):\n",
    "    user: str\n",
    "    file_path: Path\n",
    "\n",
    "    perms: dict[PermissionType, bool] = {\n",
    "        PermissionType.READ: False,\n",
    "        PermissionType.CREATE: False,\n",
    "        PermissionType.WRITE: False,\n",
    "        PermissionType.ADMIN: False,\n",
    "    }\n",
    "\n",
    "    def has_permission(self, permtype: PermissionType):\n",
    "        return self.perms[permtype]\n",
    "\n",
    "    def user_matches(self, rule: PermissionRule):\n",
    "        \"\"\"Computes if the user in the rule\"\"\"\n",
    "        if rule.user == \"*\":\n",
    "            return True\n",
    "        elif rule.user == self.user:\n",
    "            return True\n",
    "        else:\n",
    "            return False\n",
    "\n",
    "    def rule_applies_to_path(self, rule: PermissionRule):\n",
    "        if rule.has_email_template:\n",
    "            # we fill in a/b/{useremail}/*.txt -> a/b/user@email.org/*.txt\n",
    "            resolved_path_pattern = rule.resolve_path_pattern(self.user)\n",
    "        else:\n",
    "            resolved_path_pattern = rule.path_pattern\n",
    "\n",
    "        # target file path (the one that we want to check permissions for relative to the syftperm file\n",
    "        # we need this because the syftperm file specifies path patterns relative to its own location\n",
    "\n",
    "        if issubpath(rule.dir_path, self.file_path):\n",
    "            relative_file_path = self.file_path.relative_to(rule.dir_path)\n",
    "            return glob.globmatch(relative_file_path, resolved_path_pattern)\n",
    "        else:\n",
    "            return False\n",
    "\n",
    "    def _add_permission(self, permtype: PermissionType):\n",
    "        add = []\n",
    "        if permtype == PermissionType.READ:\n",
    "            add.append(PermissionType.READ)\n",
    "        elif permtype == PermissionType.CREATE:\n",
    "            add.append(PermissionType.CREATE)\n",
    "        elif permtype == PermissionType.WRITE:\n",
    "            add += [PermissionType.WRITE, PermissionType.READ]\n",
    "        elif permtype == PermissionType.ADMIN:\n",
    "            add += [PermissionType.WRITE, PermissionType.READ, PermissionType.CREATE, PermissionType.ADMIN]\n",
    "\n",
    "        for perm in add:\n",
    "            self.perms[perm] = True\n",
    "\n",
    "    def apply(self, rule: PermissionRule):\n",
    "        if self.user_matches(rule) and self.rule_applies_to_path(rule):\n",
    "            self._add_permission(rule.permtype)"
   ]
  },
  {
   "cell_type": "code",
   "execution_count": null,
   "id": "14",
   "metadata": {},
   "outputs": [],
   "source": [
    "def can_create(file_path: Path, email: str):\n",
    "    # this has to be retrieved in a certain order that respects:\n",
    "    # 1. permissions lower in the tree to be applied on top of permissions higher in the tree\n",
    "    # 2. permisisons later in the file to be applied on top of permissions earlier in the file\n",
    "    # 3. later this also has to take into account terminal permissions\n",
    "\n",
    "    rules: List[PermissionRule] = get_rules_for_path(file_path)\n",
    "\n",
    "    permission = ComputedPermission(user=email, file_path=file_path)\n",
    "\n",
    "    for rule in rules:\n",
    "        permission.apply(rule)\n",
    "\n",
    "    return permission.has_permission(PermissionType.CREATE)"
   ]
  },
  {
   "cell_type": "code",
   "execution_count": null,
   "id": "15",
   "metadata": {},
   "outputs": [],
   "source": [
    "# def upload(filename, email):\n",
    "file_path = Path(\"owner@datasite.org/folder1/user@example.org/file.txt\")\n",
    "email = \"user@example.org\"\n",
    "can_create(file_path, email)"
   ]
  },
  {
   "cell_type": "code",
   "execution_count": null,
   "id": "16",
   "metadata": {},
   "outputs": [],
   "source": [
    "glob.globmatch"
   ]
  },
  {
   "cell_type": "markdown",
   "id": "17",
   "metadata": {},
   "source": [
    "Supports unix shell style globbing patterns and is highly configurable:\n",
    "\n",
    "- **Asterisk (*)**: Matches zero or more characters within a single directory level. For example:\n",
    "    - *.txt will match all files with a .txt extension.\n",
    "    - dir/* will match all files in dir, but not in its subdirectories.\n",
    "- **Double Asterisk (**)**: Matches zero or more directories, making it recursive. This is commonly seen in .gitignore files. For example:\n",
    "    - dir/** will match all files in dir and its subdirectories at any level.\n",
    "    - **/*.log will match any .log file in the repository, at any depth.\n",
    "- **Question Mark (?)**: Matches exactly one character. For example: (SKIP?)\n",
    "    - file?.txt will match file1.txt or fileA.txt, but not file12.txt.\n",
    "- **Square Brackets ([abc])**: Matches any single character within the brackets, similar to regex. For example: (SKIP?)\n",
    "    - file[1-3].txt will match file1.txt, file2.txt, and file3.txt.\n",
    "- **Exclamation Mark (!)**: Used in .gitignore to negate patterns. For example: (V2?)\n",
    "    - !important.txt will force Git to include important.txt even if a broader pattern (like *.txt) excludes it.\n"
   ]
  },
  {
   "cell_type": "code",
   "execution_count": null,
   "id": "18",
   "metadata": {},
   "outputs": [],
   "source": []
  }
 ],
 "metadata": {
  "language_info": {
   "codemirror_mode": {
    "name": "ipython",
    "version": 3
   },
   "file_extension": ".py",
   "mimetype": "text/x-python",
   "name": "python",
   "nbconvert_exporter": "python",
   "pygments_lexer": "ipython3",
   "version": "3.12.7"
  }
 },
 "nbformat": 4,
 "nbformat_minor": 5
}
