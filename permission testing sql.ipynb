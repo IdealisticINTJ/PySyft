{
 "cells": [
  {
   "cell_type": "code",
   "execution_count": 1,
   "id": "68562a28-6b75-4370-a593-30158ab44df1",
   "metadata": {},
   "outputs": [],
   "source": [
    "import sqlite3"
   ]
  },
  {
   "cell_type": "code",
   "execution_count": 2,
   "id": "b5fe7479-315b-4f10-af1d-3c136befe317",
   "metadata": {},
   "outputs": [],
   "source": [
    "import yaml"
   ]
  },
  {
   "cell_type": "code",
   "execution_count": 3,
   "id": "0bea0b5d-186b-469f-bc9d-5cdba30deef2",
   "metadata": {},
   "outputs": [],
   "source": [
    "from pydantic import BaseModel\n",
    "from typing import List\n",
    "from enum import Enum\n",
    "from pathlib import Path\n",
    "import re\n",
    "from wcmatch.glob import globmatch\n",
    "from typing import Tuple, Optional"
   ]
  },
  {
   "cell_type": "markdown",
   "id": "39e42e72",
   "metadata": {},
   "source": [
    "# PermissionRule"
   ]
  },
  {
   "cell_type": "code",
   "execution_count": 4,
   "id": "4ecc20d6",
   "metadata": {},
   "outputs": [],
   "source": [
    "# util\n",
    "def issubpath(path1, path2):\n",
    "    return path1 in path2.parents"
   ]
  },
  {
   "cell_type": "code",
   "execution_count": 5,
   "id": "cc5d0bc6",
   "metadata": {},
   "outputs": [],
   "source": [
    "from pydantic import model_validator\n",
    "\n",
    "\n",
    "class PermissionType(Enum):\n",
    "    CREATE=1\n",
    "    READ=2\n",
    "    WRITE=3\n",
    "    ADMIN=4\n",
    "    \n",
    "    \n",
    "class PermissionParsingError(Exception):\n",
    "    pass\n",
    "\n",
    "class PermissionRule(BaseModel):\n",
    "    dir_path: Path #where does this permfile live\n",
    "    path: str # what paths does it apply to (e.g. **/*.txt)\n",
    "    user: str # can be *, \n",
    "    allow: bool = True\n",
    "    terminal: bool = False\n",
    "    permissions: List[PermissionType] # read/write/create/admin\n",
    "    priority: int\n",
    "    \n",
    "    def __eq__(self, other):\n",
    "        return self.model_dump() == other.model_dump()\n",
    "    \n",
    "    @property\n",
    "    def permfile_path(self):\n",
    "        return self.dir_path / '.syftperm'\n",
    "    \n",
    "        # write model validator that accepts either a single string or a list of strings as permissions when initializing\n",
    "    @model_validator(mode='before')\n",
    "    @classmethod\n",
    "    def validate_permissions(cls, values):\n",
    "        # check if values only contains keys that are in the model        \n",
    "        invalid_keys = set(values.keys()) - (set(cls.model_fields.keys()) | set([\"type\"]))\n",
    "        if len(invalid_keys) > 0:\n",
    "            raise PermissionParsingError(f\"rule yaml contains invalid keys {invalid_keys}, only {cls.model_fields.keys()} are allowed\")\n",
    "        \n",
    "        # add that if the type value is \"disallow\" we set allow to false\n",
    "        if values.get('type') == \"disallow\":\n",
    "            values['allow'] = False\n",
    "            \n",
    "        # if path refers to a location higher in the directory tree than the current file, raise an error\n",
    "        if values.get('path').startswith('../'):\n",
    "            raise PermissionParsingError(f\"path {values.get('path')} refers to a location higher in the directory tree than the current file\")\n",
    "        \n",
    "        # if user is not a valid email, or *, raise an error\n",
    "        email = values.get('user')\n",
    "        if email != \"*\" and not bool(re.search(r\"^[\\w\\.\\+\\-]+\\@[\\w]+\\.[a-z]{2,3}$\", email)):\n",
    "            raise PermissionParsingError(f\"user {values.get('user')} is not a valid email or *\")\n",
    "        \n",
    "        # listify permissions\n",
    "        perms = values.get('permissions')\n",
    "        if isinstance(perms, str):\n",
    "            perms = [perms]\n",
    "        if isinstance(perms, list):\n",
    "            values['permissions'] = [\n",
    "                PermissionType[p.upper()] if isinstance(p, str) else p \n",
    "                for p in perms\n",
    "            ]\n",
    "        else:\n",
    "            raise ValueError(f\"permissions should be a list of strings or a single string, received {type(perms)}\")\n",
    "        \n",
    "        path = values.get('path')\n",
    "        if \"**\" in path and \"{useremail}\" in path and path.index(\"**\") < path.rindex(\"{useremail}\"):\n",
    "            # this would make creating the path2rule mapping more challenging to compute beforehand\n",
    "            raise PermissionParsingError(\"** can never be after {useremail}\")\n",
    "        \n",
    "        return values\n",
    "    \n",
    "    @classmethod\n",
    "    def from_rule_dict(cls, dir_path, rule_dict, priority):\n",
    "        # initialize from dict\n",
    "        return cls(dir_path=dir_path, **rule_dict, priority=priority)\n",
    "    \n",
    "    @classmethod\n",
    "    def from_db_row(cls, row):\n",
    "        \"\"\"Create a PermissionRule from a database row\"\"\"\n",
    "        permissions = []\n",
    "        if row['can_read']:\n",
    "            permissions.append(PermissionType.READ)\n",
    "        if row['can_create']:\n",
    "            permissions.append(PermissionType.CREATE) \n",
    "        if row['can_write']:\n",
    "            permissions.append(PermissionType.WRITE)\n",
    "        if row['admin']:\n",
    "            permissions.append(PermissionType.ADMIN)\n",
    "            \n",
    "        return cls(\n",
    "            dir_path=Path(row['permfile_path']).parent,\n",
    "            path=row['path'],\n",
    "            user=row[\"user\"],  # Default to all users since DB schema doesn't show user field\n",
    "            allow=not row['disallow'],\n",
    "            terminal=bool(row['terminal']),\n",
    "            priority=row['priority'],\n",
    "            permissions=permissions\n",
    "        )\n",
    "    \n",
    "    def to_db_row(self):\n",
    "        \"\"\"Convert PermissionRule to a database row dictionary\"\"\"\n",
    "        return {\n",
    "            'permfile_path': str(self.permfile_path),  # Reconstruct full path\n",
    "            'permfile_dir': str(self.dir_path),\n",
    "            \"priority\": self.priority,\n",
    "            'path': self.path,\n",
    "            'user': self.user,\n",
    "            'can_read': PermissionType.READ in self.permissions,\n",
    "            'can_create': PermissionType.CREATE in self.permissions,\n",
    "            'can_write': PermissionType.WRITE in self.permissions,\n",
    "            'admin': PermissionType.ADMIN in self.permissions,\n",
    "            'disallow': not self.allow,\n",
    "            'terminal': self.terminal\n",
    "        }\n",
    "    \n",
    "    @property\n",
    "    def permission_dict(self):\n",
    "        return {\n",
    "            \"read\": PermissionType.READ in self.permissions,\n",
    "            \"create\": PermissionType.CREATE in self.permissions,\n",
    "            \"write\": PermissionType.WRITE in self.permissions,\n",
    "            \"admin\": PermissionType.ADMIN in self.permissions,\n",
    "        }\n",
    "\n",
    "    def filepath_matches_rule_path(self, filepath: Path) -> Tuple[bool, Optional[str]]:\n",
    "        if issubpath(self.dir_path, filepath):\n",
    "            relative_file_path = filepath.relative_to(self.dir_path)\n",
    "        else:\n",
    "            return False, None\n",
    "        \n",
    "        match_for_email = None\n",
    "        if self.has_email_template:\n",
    "            match = False\n",
    "            emails_in_file_path = [part for part in relative_file_path.split(\"/\") if \"@\" in part] # todo: improve this\n",
    "            for email in emails_in_file_path:\n",
    "                if globmatch(self.path.replace(\"{useremail}\", email), str(relative_file_path)):\n",
    "                    match=True\n",
    "                    match_for_email = email\n",
    "                    break\n",
    "        else:\n",
    "            match = globmatch(self.path, str(relative_file_path))\n",
    "        return match, match_for_email\n",
    "\n",
    "    @property\n",
    "    def has_email_template(self):\n",
    "        return \"{useremail}\" in self.path\n",
    "\n",
    "    def resolve_path_pattern(self, email):\n",
    "        return self.path.replace(\"{useremail}\", email)"
   ]
  },
  {
   "cell_type": "markdown",
   "id": "d39d8dec",
   "metadata": {},
   "source": [
    "# PermissionFile"
   ]
  },
  {
   "cell_type": "code",
   "execution_count": 6,
   "id": "9efd5696",
   "metadata": {},
   "outputs": [],
   "source": [
    "class PermissionFile(BaseModel):\n",
    "    filepath: Path\n",
    "    content: str\n",
    "    rules: List[PermissionRule]\n",
    "    \n",
    "    @property\n",
    "    def dir_path(self):\n",
    "        return self.filepath.parent\n",
    "\n",
    "    @classmethod\n",
    "    def from_file(cls, path):\n",
    "        with open(path, \"r\") as f:\n",
    "            rule_dicts = yaml.safe_load(f)\n",
    "            content = f.read()\n",
    "            return cls.from_rule_dicts(path, content, rule_dicts)\n",
    "\n",
    "    @classmethod\n",
    "    def from_rule_dicts(cls, permfile_file_path, content, rule_dicts):\n",
    "        if not isinstance(rule_dicts, list):\n",
    "            raise ValueError(f\"rules should be passed as a list of dicts, received {type(rule_dicts)}\")\n",
    "        rules = []\n",
    "        dir_path = Path(permfile_file_path).parent\n",
    "        for i, rule_dict in enumerate(rule_dicts):\n",
    "            rule = PermissionRule.from_rule_dict(dir_path, rule_dict, priority=i)\n",
    "            rules.append(rule)\n",
    "        return cls(filepath=permfile_file_path, content=content, rules=rules)\n",
    "    \n",
    "    @classmethod\n",
    "    def from_string(cls, s, path):\n",
    "        dicts = yaml.safe_load(s)\n",
    "        return cls.from_rule_dicts(Path(path), s, dicts)\n",
    "    \n",
    "    \n",
    "    "
   ]
  },
  {
   "cell_type": "markdown",
   "id": "17c27379",
   "metadata": {},
   "source": [
    "## Parsing tests"
   ]
  },
  {
   "cell_type": "code",
   "execution_count": 7,
   "id": "5eb28dfd",
   "metadata": {},
   "outputs": [],
   "source": [
    "yaml_string = \"\"\"\n",
    "- permissions: read\n",
    "  path: x.txt\n",
    "  user: user@example.org\n",
    "  \n",
    "- permissions: [read, write]\n",
    "  path: x.txt\n",
    "  user: \"*\"\n",
    "  type: disallow\n",
    "  terminal: true\n",
    "\"\"\""
   ]
  },
  {
   "cell_type": "code",
   "execution_count": 8,
   "id": "45f00aa4",
   "metadata": {},
   "outputs": [],
   "source": [
    "rule = PermissionRule.from_rule_dict(Path(\".\"), yaml.safe_load(yaml_string)[0], priority=0)"
   ]
  },
  {
   "cell_type": "code",
   "execution_count": 9,
   "id": "1ef063a4",
   "metadata": {},
   "outputs": [
    {
     "data": {
      "text/plain": [
       "[{'permissions': 'read', 'path': 'x.txt', 'user': 'user@example.org'},\n",
       " {'permissions': ['read', 'write'],\n",
       "  'path': 'x.txt',\n",
       "  'user': '*',\n",
       "  'type': 'disallow',\n",
       "  'terminal': True}]"
      ]
     },
     "execution_count": 9,
     "metadata": {},
     "output_type": "execute_result"
    }
   ],
   "source": [
    "yaml.safe_load(yaml_string)"
   ]
  },
  {
   "cell_type": "code",
   "execution_count": 10,
   "id": "7099ff6d",
   "metadata": {},
   "outputs": [],
   "source": [
    "file = PermissionFile.from_string(yaml_string, \".\")"
   ]
  },
  {
   "cell_type": "code",
   "execution_count": 11,
   "id": "88113ffa-6555-412b-a3fb-ce5068dcd5b1",
   "metadata": {},
   "outputs": [],
   "source": [
    "assert len(file.rules) == 2\n",
    "\n",
    "assert file.rules[0].permissions == [PermissionType.READ]\n",
    "assert file.rules[0].path == \"x.txt\"\n",
    "assert file.rules[0].user == \"user@example.org\"\n",
    "assert file.rules[0].allow == True\n",
    "assert file.rules[0].terminal == False\n",
    "\n",
    "\n",
    "#check the same for the second rule\n",
    "assert file.rules[1].permissions == [PermissionType.READ, PermissionType.WRITE]\n",
    "assert file.rules[1].path == \"x.txt\"\n",
    "assert file.rules[1].user == \"*\"\n",
    "assert file.rules[1].allow == False\n",
    "assert file.rules[1].terminal == True\n",
    "\n"
   ]
  },
  {
   "cell_type": "code",
   "execution_count": 12,
   "id": "3874d698",
   "metadata": {},
   "outputs": [],
   "source": [
    "import pytest"
   ]
  },
  {
   "cell_type": "code",
   "execution_count": 13,
   "id": "d713a429",
   "metadata": {},
   "outputs": [],
   "source": [
    "yaml_string = \"\"\"\n",
    "- permissions: read\n",
    "  path: \"../*/x.txt\"\n",
    "  user: user@example.org\n",
    "\"\"\"\n",
    "with pytest.raises(PermissionParsingError):\n",
    "    PermissionFile.from_string(yaml_string, \".\")"
   ]
  },
  {
   "cell_type": "code",
   "execution_count": 14,
   "id": "051ef64b",
   "metadata": {},
   "outputs": [],
   "source": [
    "yaml_string = \"\"\"\n",
    "- permissions: read\n",
    "  path: \"{useremail}/*\"\n",
    "  user: user@example.org\n",
    "\"\"\"\n",
    "file = PermissionFile.from_string(yaml_string, \".\")\n",
    "rule = file.rules[0]\n",
    "assert rule.has_email_template\n",
    "assert rule.resolve_path_pattern(\"user@example.org\") == \"user@example.org/*\""
   ]
  },
  {
   "cell_type": "code",
   "execution_count": 15,
   "id": "46fa70b2",
   "metadata": {},
   "outputs": [],
   "source": [
    "yaml_string = \"\"\"\n",
    "- permissions: read\n",
    "  path: \"{useremail}/*\"\n",
    "  userx: user@example.org\n",
    "\"\"\""
   ]
  },
  {
   "cell_type": "code",
   "execution_count": 16,
   "id": "133017d1",
   "metadata": {},
   "outputs": [],
   "source": [
    "from tempfile import NamedTemporaryFile\n",
    "\n",
    "yaml_string = \"\"\"\n",
    "- permissions: read\n",
    "  path: \"{useremail}/*\"\n",
    "  user: user@example.org\n",
    "\"\"\"\n",
    "\n",
    "with NamedTemporaryFile(mode='w', suffix='.yaml', delete=False) as tmp:\n",
    "    tmp.write(yaml_string)\n",
    "    tmp.flush()\n",
    "    file = PermissionFile.from_file(tmp.name)\n"
   ]
  },
  {
   "cell_type": "markdown",
   "id": "980af6b4",
   "metadata": {},
   "source": [
    "# Tables"
   ]
  },
  {
   "cell_type": "code",
   "execution_count": 17,
   "id": "14b61306",
   "metadata": {},
   "outputs": [],
   "source": [
    "import sqlite3\n",
    "connection = sqlite3.connect(\":memory:\")\n",
    "connection.row_factory = sqlite3.Row  # Set row factory to sqlite3.Row\n",
    "# connection.row_factory = sqlite3.Row  # Set row factory to sqlite3.Row\n",
    "\n",
    "\n",
    "# Create a cursor object\n",
    "cursor = connection.cursor()\n",
    "cursor.execute(\"PRAGMA foreign_keys = ON;\")\n",
    "\n",
    "# Create a table for storing file information\n",
    "res = cursor.execute(\"\"\"\n",
    "    CREATE TABLE rules (\n",
    "        permfile_path varchar(1000) NOT NULL,\n",
    "        permfile_dir varchar(1000) NOT NULL,\n",
    "        priority INTEGER NOT NULL,\n",
    "        path varchar(1000) NOT NULL,\n",
    "        user varchar(1000) NOT NULL,\n",
    "        can_read bool NOT NULL,\n",
    "        can_create bool NOT NULL,\n",
    "        can_write bool NOT NULL,\n",
    "        admin bool NOT NULL,\n",
    "        disallow bool NOT NULL,\n",
    "        terminal bool not null,\n",
    "        PRIMARY KEY (permfile_path, priority)\n",
    "    )\n",
    "\"\"\")"
   ]
  },
  {
   "cell_type": "code",
   "execution_count": 18,
   "id": "77d223c9",
   "metadata": {},
   "outputs": [
    {
     "data": {
      "text/plain": [
       "<sqlite3.Cursor at 0x111dc6f40>"
      ]
     },
     "execution_count": 18,
     "metadata": {},
     "output_type": "execute_result"
    }
   ],
   "source": [
    "cursor.execute(\"\"\"\n",
    "CREATE TABLE IF NOT EXISTS file_metadata (\n",
    "    id INTEGER PRIMARY KEY AUTOINCREMENT,\n",
    "    path TEXT NOT NULL UNIQUE,\n",
    "    hash TEXT NOT NULL,\n",
    "    signature TEXT NOT NULL,\n",
    "    file_size INTEGER NOT NULL,\n",
    "    last_modified TEXT NOT NULL        \n",
    ")\n",
    "\"\"\")"
   ]
  },
  {
   "cell_type": "code",
   "execution_count": 19,
   "id": "21cc8e2c",
   "metadata": {},
   "outputs": [
    {
     "data": {
      "text/plain": [
       "<sqlite3.Cursor at 0x111dc6f40>"
      ]
     },
     "execution_count": 19,
     "metadata": {},
     "output_type": "execute_result"
    }
   ],
   "source": [
    "\n",
    "cursor.execute(\"\"\"\n",
    "CREATE TABLE rule_files (\n",
    "    permfile_path varchar(1000) NOT NULL,\n",
    "    priority INTEGER NOT NULL,\n",
    "    file_id INTEGER NOT NULL,\n",
    "    match_for_email varchar(1000),\n",
    "    PRIMARY KEY (permfile_path, priority, file_id),\n",
    "    FOREIGN KEY (permfile_path, priority) REFERENCES rules(permfile_path, priority) ON DELETE CASCADE,\n",
    "    FOREIGN KEY (file_id) REFERENCES file_metadata(id) ON DELETE CASCADE\n",
    ");\n",
    "\"\"\")\n"
   ]
  },
  {
   "cell_type": "code",
   "execution_count": 20,
   "id": "5daf6e1f",
   "metadata": {},
   "outputs": [],
   "source": [
    "connection.commit()"
   ]
  },
  {
   "cell_type": "markdown",
   "id": "2e53f10e",
   "metadata": {},
   "source": [
    "# Define queries and inserts"
   ]
  },
  {
   "cell_type": "code",
   "execution_count": 21,
   "id": "c2a80da5",
   "metadata": {},
   "outputs": [],
   "source": [
    "def query_rules_for_permfile(cursor, file: PermissionFile):\n",
    "    cursor.execute(\"\"\"\n",
    "        SELECT * FROM rules WHERE permfile_path = ? ORDER BY priority\n",
    "    \"\"\", (str(file.filepath),))\n",
    "    return cursor.fetchall()    \n",
    "\n",
    "def get_rules_for_permfile(cursor, file: PermissionFile):\n",
    "    return [PermissionRule.from_db_row(row) for row in query_rules_for_permfile(cursor, file)]"
   ]
  },
  {
   "cell_type": "code",
   "execution_count": 22,
   "id": "a361a841",
   "metadata": {},
   "outputs": [],
   "source": [
    "def get_permission_table_column_names(cursor):\n",
    "    return [dict(x)[\"name\"] for x in cursor.execute(\"\"\"\n",
    "        SELECT name, type FROM pragma_table_info('rules')\n",
    "    \"\"\").fetchall()]\n"
   ]
  },
  {
   "cell_type": "code",
   "execution_count": 23,
   "id": "6bbaaa23",
   "metadata": {},
   "outputs": [],
   "source": [
    "def get_all_files_under_dir(cursor, dir_path):\n",
    "    cursor.execute(\"\"\"\n",
    "        SELECT * FROM file_metadata WHERE path LIKE ?\n",
    "    \"\"\", (str(dir_path) + \"/%\",))\n",
    "    return cursor.fetchall()\n"
   ]
  },
  {
   "cell_type": "code",
   "execution_count": 24,
   "id": "53af7301",
   "metadata": {},
   "outputs": [],
   "source": [
    "from syftbox.server.sync.models import FileMetadata\n",
    "\n",
    "\n",
    "def get_all_files(cursor):\n",
    "    cursor.execute(\"\"\"\n",
    "        SELECT * FROM file_metadata\n",
    "    \"\"\")\n",
    "    return cursor.fetchall()\n",
    "\n",
    "def get_all_files_under_syftperm(cursor, permfile: PermissionFile) -> List[Path]:\n",
    "    cursor.execute(\"\"\"\n",
    "        SELECT * FROM file_metadata WHERE path LIKE ?\n",
    "    \"\"\", (str(permfile.dir_path) + \"/%\",))\n",
    "    return [(row[\"id\"], FileMetadata(path=Path(row[\"path\"]), hash=row[\"hash\"], signature=row[\"signature\"], file_size=row[\"file_size\"], last_modified=row[\"last_modified\"]))\n",
    "            for row in cursor.fetchall()]\n",
    "\n"
   ]
  },
  {
   "cell_type": "code",
   "execution_count": 25,
   "id": "40c92769",
   "metadata": {},
   "outputs": [],
   "source": [
    "def insert_file_mock(path):\n",
    "    cursor.execute(\"\"\"\n",
    "        INSERT INTO file_metadata (path, hash, signature, file_size, last_modified) VALUES (?, ?, ?, ?, ?)\n",
    "    \"\"\", (path, \"dummy_hash\", \"dummy_signature\", 1234, \"2023-01-01\"))\n",
    "    connection.commit()\n",
    "    return cursor.lastrowid\n",
    "\n",
    "    "
   ]
  },
  {
   "cell_type": "code",
   "execution_count": 26,
   "id": "ebe944b4",
   "metadata": {},
   "outputs": [],
   "source": [
    "def get_all_file_mappings(cursor):\n",
    "    cursor.execute(\"\"\"\n",
    "        SELECT permfile_path, priority, file_id, match_for_email \n",
    "        FROM rule_file_mappings\n",
    "    \"\"\")\n",
    "    rows = cursor.fetchall()\n",
    "    return [\n",
    "        {\n",
    "            \"permfile_path\": row[0],\n",
    "            \"priority\": row[1], \n",
    "            \"file_id\": row[2],\n",
    "            \"match_for_email\": row[3]\n",
    "        }\n",
    "        for row in rows\n",
    "    ]\n"
   ]
  },
  {
   "cell_type": "code",
   "execution_count": 27,
   "id": "00eb0af9",
   "metadata": {},
   "outputs": [],
   "source": [
    "def set_rules_for_permfile(connection, file: PermissionFile):\n",
    "    \"\"\"\n",
    "    Atomically set the rules for a permission file. Basically its just a write operation, but\n",
    "    we also make sure we delete the rules that are no longer in the file.\n",
    "    \"\"\"\n",
    "    try:\n",
    "        cursor = connection.cursor()\n",
    "        \n",
    "        cursor.execute(\n",
    "        \"\"\"\n",
    "        DELETE FROM rules \n",
    "        WHERE permfile_path = ? \n",
    "        \"\"\",  \n",
    "            (str(file.filepath),)\n",
    "        )\n",
    "\n",
    "            \n",
    "        # TODO\n",
    "        files_under_dir = get_all_files_under_syftperm(cursor, file)\n",
    "        \n",
    "        rule2files = []\n",
    "        \n",
    "        for rule in file.rules:\n",
    "            for _id, file_in_dir in files_under_dir:\n",
    "                match, match_for_email = rule.filepath_matches_rule_path(file_in_dir.path)\n",
    "                if match:\n",
    "                    rule2files.append([str(rule.permfile_path), rule.priority, _id, match_for_email])                \n",
    "        \n",
    "        rule_rows = [tuple(rule.to_db_row().values()) for rule in file.rules]\n",
    "            \n",
    "        cursor.executemany(\"\"\"\n",
    "        INSERT INTO rules (\n",
    "            permfile_path, permfile_dir, priority, path, user, \n",
    "            can_read, can_create, can_write, admin, \n",
    "            disallow, terminal\n",
    "        ) VALUES (?, ?, ?, ?, ?, ?, ?, ?, ?, ?, ?)\n",
    "        ON CONFLICT(permfile_path, priority) DO UPDATE SET\n",
    "            path = excluded.path,\n",
    "            user = excluded.user,\n",
    "            can_read = excluded.can_read,\n",
    "            can_create = excluded.can_create,\n",
    "            can_write = excluded.can_write,\n",
    "            admin = excluded.admin,\n",
    "            disallow = excluded.disallow,\n",
    "            terminal = excluded.terminal;\n",
    "        \"\"\", rule_rows)\n",
    "        \n",
    "        \n",
    "        cursor.executemany(\"\"\"\n",
    "            INSERT INTO rule_files (permfile_path, priority, file_id, match_for_email) VALUES (?, ?, ?, ?)\n",
    "        \"\"\", rule2files)\n",
    "        \n",
    "        \n",
    "        connection.commit()\n",
    "    except Exception as e:\n",
    "        connection.rollback()\n",
    "        raise e\n",
    "\n"
   ]
  },
  {
   "cell_type": "markdown",
   "id": "fffd725d",
   "metadata": {},
   "source": [
    "# TODO"
   ]
  },
  {
   "cell_type": "markdown",
   "id": "46eaa853",
   "metadata": {},
   "source": [
    "# Test"
   ]
  },
  {
   "cell_type": "markdown",
   "id": "db9277f1",
   "metadata": {},
   "source": [
    "## Test adding rules and their rule_file_mappings (`rule_files`)"
   ]
  },
  {
   "cell_type": "code",
   "execution_count": 28,
   "id": "88cbe8a1",
   "metadata": {},
   "outputs": [
    {
     "ename": "OperationalError",
     "evalue": "no such table: rule_file_mappings",
     "output_type": "error",
     "traceback": [
      "\u001b[0;31m---------------------------------------------------------------------------\u001b[0m",
      "\u001b[0;31mOperationalError\u001b[0m                          Traceback (most recent call last)",
      "Cell \u001b[0;32mIn[28], line 27\u001b[0m\n\u001b[1;32m     22\u001b[0m file \u001b[38;5;241m=\u001b[39m PermissionFile\u001b[38;5;241m.\u001b[39mfrom_string(yaml_string, file_path)\n\u001b[1;32m     25\u001b[0m set_rules_for_permfile(connection, file)\n\u001b[0;32m---> 27\u001b[0m \u001b[38;5;28;01massert\u001b[39;00m \u001b[38;5;28mlen\u001b[39m(\u001b[43mget_all_file_mappings\u001b[49m\u001b[43m(\u001b[49m\u001b[43mcursor\u001b[49m\u001b[43m)\u001b[49m) \u001b[38;5;241m==\u001b[39m \u001b[38;5;241m2\u001b[39m\n",
      "Cell \u001b[0;32mIn[26], line 2\u001b[0m, in \u001b[0;36mget_all_file_mappings\u001b[0;34m(cursor)\u001b[0m\n\u001b[1;32m      1\u001b[0m \u001b[38;5;28;01mdef\u001b[39;00m \u001b[38;5;21mget_all_file_mappings\u001b[39m(cursor):\n\u001b[0;32m----> 2\u001b[0m     \u001b[43mcursor\u001b[49m\u001b[38;5;241;43m.\u001b[39;49m\u001b[43mexecute\u001b[49m\u001b[43m(\u001b[49m\u001b[38;5;124;43m\"\"\"\u001b[39;49m\n\u001b[1;32m      3\u001b[0m \u001b[38;5;124;43m        SELECT permfile_path, priority, file_id, match_for_email \u001b[39;49m\n\u001b[1;32m      4\u001b[0m \u001b[38;5;124;43m        FROM rule_file_mappings\u001b[39;49m\n\u001b[1;32m      5\u001b[0m \u001b[38;5;124;43m    \u001b[39;49m\u001b[38;5;124;43m\"\"\"\u001b[39;49m\u001b[43m)\u001b[49m\n\u001b[1;32m      6\u001b[0m     rows \u001b[38;5;241m=\u001b[39m cursor\u001b[38;5;241m.\u001b[39mfetchall()\n\u001b[1;32m      7\u001b[0m     \u001b[38;5;28;01mreturn\u001b[39;00m [\n\u001b[1;32m      8\u001b[0m         {\n\u001b[1;32m      9\u001b[0m             \u001b[38;5;124m\"\u001b[39m\u001b[38;5;124mpermfile_path\u001b[39m\u001b[38;5;124m\"\u001b[39m: row[\u001b[38;5;241m0\u001b[39m],\n\u001b[0;32m   (...)\u001b[0m\n\u001b[1;32m     14\u001b[0m         \u001b[38;5;28;01mfor\u001b[39;00m row \u001b[38;5;129;01min\u001b[39;00m rows\n\u001b[1;32m     15\u001b[0m     ]\n",
      "\u001b[0;31mOperationalError\u001b[0m: no such table: rule_file_mappings"
     ]
    }
   ],
   "source": [
    "if len(get_all_files(cursor)) == 0:\n",
    "    for f in [\"a.txt\", \"b.txt\", \"c.txt\"]:\n",
    "        insert_file_mock(f\"user@example.org/test2/{f}\")\n",
    "\n",
    "\n",
    "yaml_string = \"\"\"\n",
    "- permissions: read\n",
    "  path: a.txt\n",
    "  user: user@example.org\n",
    "  \n",
    "- permissions: write\n",
    "  path: b.txt\n",
    "  user: user@example.org\n",
    "  \n",
    "- permissions: write\n",
    "  path: z.txt\n",
    "  user: \"*\"\n",
    "  type: disallow\n",
    "  terminal: true\n",
    "\"\"\"\n",
    "file_path = \"user@example.org/test2/.syftperm\"\n",
    "file = PermissionFile.from_string(yaml_string, file_path)\n",
    "\n",
    "\n",
    "set_rules_for_permfile(connection, file)\n",
    "\n",
    "assert len(get_all_file_mappings(cursor)) == 2\n",
    "\n",
    "\n"
   ]
  },
  {
   "cell_type": "markdown",
   "id": "4b49ea2b",
   "metadata": {},
   "source": [
    "## Test overwriting rules"
   ]
  },
  {
   "cell_type": "code",
   "execution_count": 29,
   "id": "3bad4442",
   "metadata": {},
   "outputs": [],
   "source": [
    "yaml_string = \"\"\"\n",
    "- permissions: read\n",
    "  path: a.txt\n",
    "  user: user@example.org\n",
    "  \n",
    "- permissions: write\n",
    "  path: b.txt\n",
    "  user: user@example.org\n",
    "  \n",
    "- permissions: write\n",
    "  path: z.txt\n",
    "  user: \"*\"\n",
    "  type: disallow\n",
    "  terminal: true\n",
    "\"\"\"\n",
    "file_path = \"user@example.org/test2/.syftperm\"\n",
    "file = PermissionFile.from_string(yaml_string, file_path)\n",
    "set_rules_for_permfile(connection, file)\n",
    "written_rules = get_rules_for_permfile(cursor, file)\n",
    "\n",
    "permissions = [x.permissions for x in written_rules]\n",
    "users = [x.user for x in written_rules]\n",
    "terminals = [x.terminal for x in written_rules]\n",
    "allows = [x.allow for x in written_rules]\n",
    "assert len(written_rules) == 3\n",
    "assert permissions == [[PermissionType.READ], [PermissionType.WRITE], [PermissionType.WRITE]]\n",
    "assert users == [\"user@example.org\", \"user@example.org\", \"*\"]\n",
    "assert terminals == [False, False, True]\n",
    "assert allows == [True, True, False]\n",
    "\n",
    "\n",
    "assert len([x for x in get_all_file_mappings(cursor) if x[\"permfile_path\"] == str(file.filepath)]) == 2\n",
    "\n"
   ]
  },
  {
   "cell_type": "code",
   "execution_count": 30,
   "id": "9ee0b544",
   "metadata": {},
   "outputs": [],
   "source": [
    "# \" | \".join(get_permission_table_column_names(cursor))   \n"
   ]
  },
  {
   "cell_type": "code",
   "execution_count": 31,
   "id": "58b2eb6b",
   "metadata": {},
   "outputs": [],
   "source": [
    "yaml_string = \"\"\"\n",
    "- permissions: read\n",
    "  path: a.txt\n",
    "  user: user@example.org\n",
    "  \n",
    "- permissions: create\n",
    "  path: x.txt\n",
    "  user: user@example.org\n",
    "  \n",
    "- permissions: create\n",
    "  path: z.txt\n",
    "  user: \"*\"\n",
    "  type: disallow\n",
    "  terminal: true\n",
    "  \n",
    "- permissions: create\n",
    "  path: d.txt\n",
    "  user: \"*\"\n",
    "  terminal: true\n",
    "\"\"\"\n",
    "\n",
    "file_path = \"user@example.org/test2/.syftperm\"\n",
    "file = PermissionFile.from_string(yaml_string, file_path)\n",
    "set_rules_for_permfile(connection, file)"
   ]
  },
  {
   "cell_type": "code",
   "execution_count": 32,
   "id": "706627a2",
   "metadata": {},
   "outputs": [],
   "source": [
    "new_existing_rules = get_rules_for_permfile(cursor, file)\n",
    "paths = [x.path for x in new_existing_rules]\n",
    "permissions = [x.permissions for x in new_existing_rules]\n",
    "users = [x.user for x in new_existing_rules]\n",
    "terminals = [x.terminal for x in new_existing_rules]\n",
    "allows = [x.allow for x in new_existing_rules]\n",
    "assert len(new_existing_rules) == 4\n",
    "assert paths == [\"a.txt\", \"x.txt\", \"z.txt\", \"d.txt\"]\n",
    "assert permissions == [[PermissionType.READ], [PermissionType.CREATE], [PermissionType.CREATE], [PermissionType.CREATE]]\n",
    "assert users == [\"user@example.org\", \"user@example.org\", \"*\", \"*\"]\n",
    "assert terminals == [False, False, True, True]\n",
    "assert allows == [True, True, False, True]"
   ]
  },
  {
   "cell_type": "code",
   "execution_count": 33,
   "id": "4da6728e",
   "metadata": {},
   "outputs": [],
   "source": [
    "assert len(get_all_file_mappings(cursor)) == 1"
   ]
  },
  {
   "cell_type": "markdown",
   "id": "f27345cf",
   "metadata": {},
   "source": [
    "## Get single permission for a user"
   ]
  },
  {
   "cell_type": "code",
   "execution_count": 34,
   "id": "3f04e970",
   "metadata": {},
   "outputs": [],
   "source": [
    "def get_rules_for_path(cursor, path: Path):\n",
    "    parents = path.parents\n",
    "    placeholders = \",\".join(\"?\" * len(parents))\n",
    "    cursor.execute(\"\"\"\n",
    "        SELECT * FROM rules WHERE permfile_dir in ({})\n",
    "    \"\"\".format(placeholders), [str(x) for x in parents])\n",
    "    return [PermissionRule.from_db_row(row) for row in cursor.fetchall()]\n"
   ]
  },
  {
   "cell_type": "code",
   "execution_count": 35,
   "id": "9df22cc1",
   "metadata": {},
   "outputs": [],
   "source": [
    "class ComputedPermission(BaseModel):\n",
    "    user: str\n",
    "    file_path: Path\n",
    "    terminal: dict[PermissionType, bool] = {\n",
    "        PermissionType.READ: False,\n",
    "        PermissionType.CREATE: False,\n",
    "        PermissionType.WRITE: False,\n",
    "        PermissionType.ADMIN: False,\n",
    "    }\n",
    "    \n",
    "    perms: dict[PermissionType, bool] = {\n",
    "        PermissionType.READ: False,\n",
    "        PermissionType.CREATE: False,\n",
    "        PermissionType.WRITE: False,\n",
    "        PermissionType.ADMIN: False,\n",
    "    }\n",
    "    \n",
    "    \n",
    "    @classmethod\n",
    "    def from_user_and_path(cls, cursor: sqlite3.Cursor, user: str, path: Path):\n",
    "        rules: List[PermissionRule] = get_rules_for_path(cursor, path)\n",
    "    \n",
    "        permission = cls(user=user, file_path=path)                           \n",
    "        for rule in rules:\n",
    "            permission.apply(rule)\n",
    "            \n",
    "        return permission\n",
    "\n",
    "    def has_permission(self, permtype: PermissionType):\n",
    "        return self.perms[permtype]\n",
    "        \n",
    "    def user_matches(self, rule: PermissionRule):\n",
    "        \"\"\"Computes if the user in the rule\"\"\"\n",
    "        if rule.user == \"*\":\n",
    "            return True\n",
    "        elif rule.user == self.user:\n",
    "            return True\n",
    "        else:\n",
    "            return False\n",
    "\n",
    "    def rule_applies_to_path(self, rule: PermissionRule):\n",
    "        if rule.has_email_template:\n",
    "            # we fill in a/b/{useremail}/*.txt -> a/b/user@email.org/*.txt\n",
    "            resolved_path_pattern = rule.resolve_path_pattern(self.user)\n",
    "        else:\n",
    "            resolved_path_pattern = rule.path\n",
    "            \n",
    "        # target file path (the one that we want to check permissions for relative to the syftperm file\n",
    "        # we need this because the syftperm file specifies path patterns relative to its own location\n",
    "        \n",
    "        if issubpath(rule.dir_path, self.file_path):\n",
    "            relative_file_path = self.file_path.relative_to(rule.dir_path)\n",
    "            return globmatch(relative_file_path, resolved_path_pattern)\n",
    "        else:\n",
    "            return False\n",
    "            \n",
    "    def apply(self, rule: PermissionRule):\n",
    "        # TODO: is terminal on a rule level or on a permission level?\n",
    "        if self.user_matches(rule) and self.rule_applies_to_path(rule):\n",
    "            for permtype in rule.permissions:\n",
    "                if not self.terminal[permtype]:\n",
    "                    self.perms[permtype] = rule.allow\n",
    "                if rule.terminal:\n",
    "                    self.terminal[permtype] = True\n",
    "                    "
   ]
  },
  {
   "cell_type": "code",
   "execution_count": 36,
   "id": "807bd57f",
   "metadata": {},
   "outputs": [
    {
     "data": {
      "text/plain": [
       "True"
      ]
     },
     "execution_count": 36,
     "metadata": {},
     "output_type": "execute_result"
    }
   ],
   "source": [
    "computed_permission = ComputedPermission.from_user_and_path(cursor, \"user@example.org\", Path(\"user@example.org/test2/a.txt\"))\n",
    "computed_permission.has_permission(PermissionType.READ)\n"
   ]
  },
  {
   "cell_type": "markdown",
   "id": "15149550",
   "metadata": {},
   "source": [
    "## Get all read permissions for a set of paths for a user (dir_state)\n"
   ]
  },
  {
   "cell_type": "code",
   "execution_count": 38,
   "id": "487403e8",
   "metadata": {},
   "outputs": [
    {
     "name": "stdout",
     "output_type": "stream",
     "text": [
      "\n",
      "Table: rules\n",
      "Columns:\n",
      "  permfile_path (varchar(1000))\n",
      "  permfile_dir (varchar(1000))\n",
      "  priority (INTEGER)\n",
      "  path (varchar(1000))\n",
      "  user (varchar(1000))\n",
      "  can_read (bool)\n",
      "  can_create (bool)\n",
      "  can_write (bool)\n",
      "  admin (bool)\n",
      "  disallow (bool)\n",
      "  terminal (bool)\n",
      "\n",
      "Table: file_metadata\n",
      "Columns:\n",
      "  id (INTEGER)\n",
      "  path (TEXT)\n",
      "  hash (TEXT)\n",
      "  signature (TEXT)\n",
      "  file_size (INTEGER)\n",
      "  last_modified (TEXT)\n",
      "\n",
      "Table: sqlite_sequence\n",
      "Columns:\n",
      "  name ()\n",
      "  seq ()\n",
      "\n",
      "Table: rule_files\n",
      "Columns:\n",
      "  permfile_path (varchar(1000))\n",
      "  priority (INTEGER)\n",
      "  file_id (INTEGER)\n",
      "  match_for_email (varchar(1000))\n"
     ]
    }
   ],
   "source": [
    "# Get all table names\n",
    "tables = cursor.execute(\"SELECT name FROM sqlite_master WHERE type='table'\").fetchall()\n",
    "\n",
    "for table in tables:\n",
    "    table_name = table[0]\n",
    "    # Get column info for each table\n",
    "    columns = cursor.execute(f\"PRAGMA table_info({table_name})\").fetchall()\n",
    "    print(f\"\\nTable: {table_name}\")\n",
    "    print(\"Columns:\")\n",
    "    for col in columns:\n",
    "        print(f\"  {col[1]} ({col[2]})\")\n"
   ]
  },
  {
   "cell_type": "code",
   "execution_count": null,
   "id": "36118fd5",
   "metadata": {},
   "outputs": [],
   "source": []
  },
  {
   "cell_type": "code",
   "execution_count": 92,
   "id": "8a8147ac",
   "metadata": {},
   "outputs": [],
   "source": [
    "def get_read_permissions_for_user(user: str):\n",
    "    res = cursor.execute(\"\"\"\n",
    "    SELECT path,\n",
    "    (\n",
    "        SELECT COALESCE(max(\n",
    "            CASE \n",
    "                WHEN can_read AND NOT disallow AND NOT terminal THEN rule_prio\n",
    "                WHEN can_read AND NOT disallow AND terminal THEN terminal_prio\n",
    "                ELSE 0\n",
    "            END\n",
    "        ) >\n",
    "        max(\n",
    "            CASE\n",
    "                WHEN can_read AND disallow AND NOT terminal THEN rule_prio\n",
    "                WHEN can_read AND disallow AND terminal THEN terminal_prio\n",
    "                ELSE 0\n",
    "            END\n",
    "        ), 0)  \n",
    "        FROM (\n",
    "            SELECT can_read, disallow, terminal,\n",
    "                row_number() OVER (ORDER BY rules.priority DESC) AS rule_prio,\n",
    "                row_number() OVER (ORDER BY rules.priority ASC) * 1000000 AS terminal_prio\n",
    "            FROM rule_files\n",
    "            JOIN rules ON rule_files.permfile_path = rules.permfile_path and rule_files.priority = rules.priority\n",
    "            WHERE rule_files.file_id = f.id and (rules.user = ? or rules.user = \"*\" or rule_files.match_for_email = ?)\n",
    "        )\n",
    "    ) AS read_permission\n",
    "    FROM file_metadata f\n",
    "    \"\"\", (user, user))\n",
    "    return res.fetchall()\n"
   ]
  },
  {
   "cell_type": "code",
   "execution_count": 105,
   "id": "7f98b6ee",
   "metadata": {},
   "outputs": [],
   "source": [
    "# Clear existing data\n",
    "cursor.execute(\"DELETE FROM file_metadata\")\n",
    "cursor.execute(\"DELETE FROM rule_files\") \n",
    "cursor.execute(\"DELETE FROM rules\")\n",
    "\n",
    "# Insert some example file metadata\n",
    "cursor.execute(\"\"\"\n",
    "INSERT INTO file_metadata (id, path, hash, signature, file_size, last_modified) VALUES\n",
    "    (1, 'user@example.org/test2/a.txt', 'hash1', 'signature1', 100, '2024-01-01'),\n",
    "    (2, 'user@example.org/test2/b.txt', 'hash2', 'signature2', 200, '2024-01-02'),\n",
    "    (3, 'user@example.org/test2/c.txt', 'hash3', 'signature3', 300, '2024-01-03')\n",
    "\"\"\")\n",
    "\n",
    "cursor.execute(\"\"\"\n",
    "INSERT INTO rules (permfile_path, permfile_dir, priority, path, user, can_read, can_create, can_write, admin, disallow, terminal) VALUES\n",
    "    ('user@example.org/test2/.syftperm', 'user@example.org/test2', 1, '*', '*', 1, 0, 0, 0, 0, 0),\n",
    "    ('user@example.org/test2/.syftperm', 'user@example.org/test2', 2, '*', 'user@example.org', 0, 1, 1, 0, 0, 0),\n",
    "    ('user@example.org/test2/.syftperm', 'user@example.org/test2', 3, '*', '*', 1, 1, 1, 0, 0, 0)\n",
    "\n",
    "\"\"\")\n",
    "\n",
    "# Insert example permission rules\n",
    "cursor.execute(\"\"\"\n",
    "INSERT INTO rule_files (permfile_path, priority, file_id, match_for_email) VALUES\n",
    "    ('user@example.org/test2/.syftperm', 1, 1, NULL),\n",
    "    ('user@example.org/test2/.syftperm', 2, 2, NULL),\n",
    "    ('user@example.org/test2/.syftperm', 3, 3, NULL)\n",
    "\n",
    "\n",
    "\"\"\")\n",
    "\n",
    "connection.commit()"
   ]
  },
  {
   "cell_type": "code",
   "execution_count": 106,
   "id": "525576b8",
   "metadata": {},
   "outputs": [],
   "source": [
    "res = [dict(x) for x in get_read_permissions_for_user(\"user@example.org\")]\n",
    "\n",
    "assert len(res) == 3\n",
    "assert res[0][\"path\"] == \"user@example.org/test2/a.txt\"\n",
    "assert res[0][\"read_permission\"] == True\n",
    "assert res[1][\"path\"] == \"user@example.org/test2/b.txt\"\n",
    "assert res[1][\"read_permission\"] == False\n",
    "assert res[2][\"path\"] == \"user@example.org/test2/c.txt\"\n",
    "assert res[2][\"read_permission\"] == True\n"
   ]
  },
  {
   "cell_type": "code",
   "execution_count": null,
   "id": "54e727a6",
   "metadata": {},
   "outputs": [],
   "source": []
  },
  {
   "cell_type": "code",
   "execution_count": null,
   "id": "b8658388",
   "metadata": {},
   "outputs": [],
   "source": []
  },
  {
   "cell_type": "code",
   "execution_count": null,
   "id": "ff2279cc",
   "metadata": {},
   "outputs": [],
   "source": []
  },
  {
   "cell_type": "code",
   "execution_count": null,
   "id": "a7b2c731",
   "metadata": {},
   "outputs": [],
   "source": []
  },
  {
   "cell_type": "markdown",
   "id": "6535ff79",
   "metadata": {},
   "source": [
    "# APPENDIX"
   ]
  },
  {
   "cell_type": "code",
   "execution_count": 38,
   "id": "721525ef",
   "metadata": {},
   "outputs": [],
   "source": [
    "from wcmatch.glob import globmatch"
   ]
  },
  {
   "cell_type": "markdown",
   "id": "bf104aa0",
   "metadata": {},
   "source": []
  },
  {
   "cell_type": "code",
   "execution_count": 39,
   "id": "10a28577-5f8f-4099-859a-ad63850cd913",
   "metadata": {},
   "outputs": [],
   "source": [
    "# r0 c0 w0 a0"
   ]
  },
  {
   "cell_type": "markdown",
   "id": "7a471ddb",
   "metadata": {},
   "source": [
    "# Permission querying prototype"
   ]
  },
  {
   "cell_type": "markdown",
   "id": "7346fc63-046e-4e68-98e4-dc096972f84e",
   "metadata": {},
   "source": [
    "- summary permissions\n",
    "- types\n",
    "    - effective permissions\n",
    "        - read/create/update/update_permissions\n",
    "        - these are store using bitwise independent permissions bits. Except for update_permissions, we have the admin bit.\n",
    "            - read/create/update/admin\n",
    "            - If you are admin, all checks are skipped when checking permissions\n",
    "            - if you do not have the read bit, you also lose effect write/update\n",
    "    - roles\n",
    "        - roles are like aliases. They allow you to give multiple permissions with short syntax \n",
    "        - examples\n",
    "            - admin -> implies admin\n",
    "            - creator -> implies read+create\n",
    "            - updater -> implies read+update\n",
    "            - writer -> implies read+create+update\n",
    "        - for disallowing, the usage pattern will probably be more fine grained, so you can use permissions like read/create\n"
   ]
  },
  {
   "cell_type": "code",
   "execution_count": 40,
   "id": "c6eede9a-1034-4535-93e2-f34f415a2b14",
   "metadata": {},
   "outputs": [],
   "source": [
    "# x/.syftperm\n",
    "\n",
    "# r1 1\n",
    "# r2 2\n",
    "# r3 3\n",
    "# rn 4\n",
    "# r4 5\n",
    "# r5 6\n"
   ]
  },
  {
   "cell_type": "code",
   "execution_count": 41,
   "id": "99fa7174-3957-48e3-be53-6e26b0486637",
   "metadata": {},
   "outputs": [],
   "source": [
    "# Start an in-memory SQLite connection\n",
    "connection = sqlite3.connect(\":memory:\")\n",
    "connection.row_factory = sqlite3.Row  # Set row factory to sqlite3.Row\n",
    "\n",
    "\n",
    "# Create a cursor object\n",
    "cursor = connection.cursor()\n",
    "\n",
    "# Create a table for storing file information\n",
    "res = cursor.execute(\"\"\"\n",
    "    CREATE TABLE rules (\n",
    "        id INTEGER PRIMARY KEY AUTOINCREMENT,\n",
    "        read bool NOT NULL,\n",
    "        admin bool NOT NULL,\n",
    "        disallow bool NOT NULL,\n",
    "        terminal bool not null\n",
    "    )\n",
    "\"\"\")\n",
    "\n",
    "res = cursor.execute(\"\"\"\n",
    "    CREATE TABLE paths (\n",
    "        id INTEGER PRIMARY KEY AUTOINCREMENT,\n",
    "        path varchar(1000) NOT NULL\n",
    "    )\n",
    "\"\"\")\n",
    "\n",
    "res = cursor.execute(\"\"\"\n",
    "    CREATE TABLE path2rule (\n",
    "        path_id INTEGER NOT NULL,\n",
    "        rule_id INTEGER NOT NULL,\n",
    "        PRIMARY KEY (path_id, rule_id)\n",
    "    )\n",
    "\"\"\")\n",
    "\n"
   ]
  },
  {
   "cell_type": "code",
   "execution_count": null,
   "id": "156af2af-316f-4a9f-9699-96424b18b626",
   "metadata": {},
   "outputs": [],
   "source": []
  },
  {
   "cell_type": "code",
   "execution_count": 42,
   "id": "8c667713-b347-4d4f-83e5-7b4381112a2b",
   "metadata": {},
   "outputs": [
    {
     "data": {
      "text/plain": [
       "<sqlite3.Cursor at 0x1066dce40>"
      ]
     },
     "execution_count": 42,
     "metadata": {},
     "output_type": "execute_result"
    }
   ],
   "source": [
    "# Insert some example file paths\n",
    "rules = [\n",
    "    (True, False, False, False),\n",
    "    (True, False, True, False),\n",
    "    (False, True, False, False),\n",
    "    (True, False, False, False),\n",
    "    (True, False, False, False),\n",
    "    (True, False, True, False),\n",
    "    (False, True, False, False),\n",
    "]\n",
    "\n",
    "cursor.executemany(\"INSERT INTO rules (read, admin, disallow, terminal) VALUES (?, ?, ?, ?)\", rules)"
   ]
  },
  {
   "cell_type": "code",
   "execution_count": 43,
   "id": "905647dd-9dc5-496a-873a-7a146c12d4f9",
   "metadata": {},
   "outputs": [
    {
     "data": {
      "text/plain": [
       "<sqlite3.Cursor at 0x1066dce40>"
      ]
     },
     "execution_count": 43,
     "metadata": {},
     "output_type": "execute_result"
    }
   ],
   "source": [
    "# Insert some example file paths\n",
    "paths = [\n",
    "    (\"a@b.openmined.org/a.txt\",),\n",
    "    (\"a@b.openmined.org/b.txt\",),\n",
    "    # (True, False, False),\n",
    "]\n",
    "\n",
    "cursor.executemany(\"INSERT INTO paths (path) VALUES (?)\", paths)"
   ]
  },
  {
   "cell_type": "code",
   "execution_count": 44,
   "id": "b8eb9199-9d85-44c0-839c-13db0af37419",
   "metadata": {},
   "outputs": [
    {
     "data": {
      "text/plain": [
       "<sqlite3.Cursor at 0x1066dce40>"
      ]
     },
     "execution_count": 44,
     "metadata": {},
     "output_type": "execute_result"
    }
   ],
   "source": [
    "# Insert some example file paths\n",
    "path2rule = [\n",
    "    (1, 1),\n",
    "    (1, 2),\n",
    "    (1, 3),\n",
    "    (1, 4),\n",
    "    (2, 5),\n",
    "    (2, 6),\n",
    "    (2, 7),\n",
    "]\n",
    "\n",
    "cursor.executemany(\"INSERT INTO path2rule (path_id, rule_id) VALUES (?, ?)\", path2rule)"
   ]
  },
  {
   "cell_type": "code",
   "execution_count": 45,
   "id": "5c2afc50-86e2-4199-8fb3-92ed86817e7c",
   "metadata": {},
   "outputs": [],
   "source": [
    "def query_all(cursor, table_name):\n",
    "    res = cursor.execute(f\"\"\"\n",
    "    SELECT * from {table_name}\n",
    "    \"\"\"\n",
    "    )\n",
    "    for i,x in enumerate(res.fetchall()):\n",
    "        if i==0:\n",
    "            print(\" | \".join(list(x.keys())))\n",
    "        print(\"  |  \".join([str(x) for x in dict(x).values()]))"
   ]
  },
  {
   "cell_type": "code",
   "execution_count": 46,
   "id": "0fa59637-667d-40a5-a37e-96acbb838127",
   "metadata": {},
   "outputs": [
    {
     "name": "stdout",
     "output_type": "stream",
     "text": [
      "id | read | admin | disallow | terminal\n",
      "1  |  1  |  0  |  0  |  0\n",
      "2  |  1  |  0  |  1  |  0\n",
      "3  |  0  |  1  |  0  |  0\n",
      "4  |  1  |  0  |  0  |  0\n",
      "5  |  1  |  0  |  0  |  0\n",
      "6  |  1  |  0  |  1  |  0\n",
      "7  |  0  |  1  |  0  |  0\n"
     ]
    }
   ],
   "source": [
    "query_all(cursor, \"rules\")"
   ]
  },
  {
   "cell_type": "code",
   "execution_count": 47,
   "id": "b31ace29-afc4-4f9f-86d1-517edbfb6f7e",
   "metadata": {},
   "outputs": [
    {
     "name": "stdout",
     "output_type": "stream",
     "text": [
      "id | path\n",
      "1  |  a@b.openmined.org/a.txt\n",
      "2  |  a@b.openmined.org/b.txt\n"
     ]
    }
   ],
   "source": [
    "query_all(cursor, \"paths\")"
   ]
  },
  {
   "cell_type": "code",
   "execution_count": 48,
   "id": "e0301a3b-fc85-4364-84fb-5306b5e8484c",
   "metadata": {},
   "outputs": [
    {
     "name": "stdout",
     "output_type": "stream",
     "text": [
      "path_id | rule_id\n",
      "1  |  1\n",
      "1  |  2\n",
      "1  |  3\n",
      "1  |  4\n",
      "2  |  5\n",
      "2  |  6\n",
      "2  |  7\n"
     ]
    }
   ],
   "source": [
    "query_all(cursor, \"path2rule\")"
   ]
  },
  {
   "cell_type": "markdown",
   "id": "f0e25eb1-623c-40ac-bb6e-d08295baad7e",
   "metadata": {},
   "source": [
    "we have\n",
    "\n",
    "- paths\n",
    "- rules2paths\n",
    "- rules\n",
    "\n",
    "\n",
    "for every path we compute all rules\n",
    "for all those pathrules we compute all things below"
   ]
  },
  {
   "cell_type": "markdown",
   "id": "7488a6e3-2b00-4eb4-9a99-1c8260791f54",
   "metadata": {},
   "source": [
    "1. we get all paths\n",
    "2. we make a correlated subquery in the select that \n",
    "2a. first gets all the rules\n",
    "2b. collapses all the rules"
   ]
  },
  {
   "cell_type": "code",
   "execution_count": 49,
   "id": "6c82a20d-19dc-4d3a-a686-0f57e35bcc82",
   "metadata": {},
   "outputs": [],
   "source": [
    "# res = cursor.execute(\"\"\"\n",
    "# SELECT path, \n",
    "# (\n",
    "#     SELECT max(rule_prio * read * (1-disallow) * (1-terminal) + terminal_prio * read * (1-disallow) * terminal * 1000000) >\n",
    "#            max(rule_prio * read * disallow * (1-terminal) + terminal_prio * read * disallow * terminal * 1000000) as read_permission\n",
    "#     from (\n",
    "#                 SELECT read, disallow, terminal, \n",
    "#                 row_number() over (order by id desc) as rule_prio,\n",
    "#                 row_number() over (order by id asc) as terminal_prio \n",
    "#                 FROM path2rule\n",
    "#                 join rules on path2rule.rule_id == rules.id\n",
    "#                 where p.id == path2rule.path_id\n",
    "#     )\n",
    "# ) as read_permission\n",
    "# FROM paths p\n",
    "# \"\"\")\n"
   ]
  },
  {
   "cell_type": "code",
   "execution_count": 50,
   "id": "1d2f915b-9726-46fd-a19b-e18c9fabe270",
   "metadata": {},
   "outputs": [
    {
     "ename": "SyntaxError",
     "evalue": "invalid syntax (2559906572.py, line 1)",
     "output_type": "error",
     "traceback": [
      "\u001b[0;36m  Cell \u001b[0;32mIn[50], line 1\u001b[0;36m\u001b[0m\n\u001b[0;31m    read row_number=1 -> 1\u001b[0m\n\u001b[0m         ^\u001b[0m\n\u001b[0;31mSyntaxError\u001b[0m\u001b[0;31m:\u001b[0m invalid syntax\n"
     ]
    }
   ],
   "source": [
    "read row_number=1 -> 1\n",
    "read row_number=2 terminal=True -> 90000000\n",
    "read row_number=3 terminal=True -> 80000000\n",
    "read row_number=4 -> 4\n",
    "\n",
    "900000000\n"
   ]
  },
  {
   "cell_type": "code",
   "execution_count": 78,
   "id": "8f6e9506-2a15-474c-ba03-1740d749e4e1",
   "metadata": {},
   "outputs": [],
   "source": [
    "res = cursor.execute(\"\"\"\n",
    "SELECT path, \n",
    "(\n",
    "    SELECT max\n",
    "    (\n",
    "        case \n",
    "            when read and not disallow and not terminal then rule_prio\n",
    "            when read and not disallow and terminal then terminal_prio\n",
    "            else 0\n",
    "        end\n",
    "    ) >\n",
    "    max\n",
    "    (\n",
    "        case \n",
    "            when read and disallow and not terminal then rule_prio\n",
    "            when read and disallow and terminal then terminal_prio\n",
    "            else 0\n",
    "        end\n",
    "    )\n",
    "    from (\n",
    "                SELECT read, disallow, terminal, \n",
    "                row_number() over (order by id desc) as rule_prio,\n",
    "                row_number() over (order by id asc) * 1000000 as terminal_prio \n",
    "                FROM path2rule\n",
    "                join rules on path2rule.rule_id == rules.id\n",
    "                where p.id == path2rule.path_id\n",
    "    )\n",
    ") as read_permission\n",
    "FROM paths p\n",
    "\"\"\")\n"
   ]
  },
  {
   "cell_type": "code",
   "execution_count": 79,
   "id": "e8523d6d-6daa-4d26-b999-b2d9ad46f100",
   "metadata": {},
   "outputs": [],
   "source": [
    "# res = cursor.execute(\"\"\"\n",
    "# SELECT path, \n",
    "# (\n",
    "#     SELECT max(allow_score) > max(disallow_score) as read_permission\n",
    "#     from (\n",
    "#                 SELECT \n",
    "#                 row_number() over (order by id desc) * read * (1-disallow) * (1-terminal) +\n",
    "#                 row_number() over (order by id asc) * read * (1-disallow) * terminal * 1000000 as allow_score,\n",
    "#                 row_number() over (order by id desc) * read * disallow * (1-terminal) +\n",
    "#                 row_number() over (order by id asc) * read * disallow * terminal * 1000000 as disallow_score\n",
    "#                 FROM path2rule\n",
    "#                 join rules on path2rule.rule_id == rules.id\n",
    "#                 where p.id == path2rule.path_id\n",
    "#     )\n",
    "# ) as read_permission\n",
    "# FROM paths p\n",
    "# \"\"\")\n"
   ]
  },
  {
   "cell_type": "code",
   "execution_count": 80,
   "id": "da607f3d-a87e-49c3-aba3-bf331ea98e62",
   "metadata": {},
   "outputs": [
    {
     "name": "stdout",
     "output_type": "stream",
     "text": [
      "['path', 'read_permission']\n",
      "['a@b.openmined.org/a.txt', 1]\n",
      "['a@b.openmined.org/b.txt', 1]\n"
     ]
    }
   ],
   "source": [
    "for i,x in enumerate(res.fetchall()):\n",
    "    if i==0:\n",
    "        print(list(x.keys()))\n",
    "    print(list(dict(x).values()))"
   ]
  },
  {
   "cell_type": "code",
   "execution_count": 63,
   "id": "8ccb06a7-3077-4159-9800-8f0d9f7c9840",
   "metadata": {},
   "outputs": [],
   "source": [
    "# \"\"\"\n",
    "# select max(allow_score) > max(disallow_score) as read_permission\n",
    "# from (\n",
    "#             SELECT \n",
    "#             row_number() over (order by id desc) * read * (1-disallow) * (1-terminal) +\n",
    "#             row_number() over (order by id asc) * read * (1-disallow) * terminal * pow(10000, terminal) as allow_score,\n",
    "#             row_number() over (order by id desc) * read * disallow * (1-terminal) +\n",
    "#             row_number() over (order by id asc) * read * disallow * terminal * pow(10000, terminal) as disallow_score\n",
    "#             FROM rules\n",
    "#             where rules.id in (1,2,3,4)\n",
    "#             ORDER BY id DESC\n",
    "#             LIMIT 10\n",
    "# )\n",
    "# \"\"\""
   ]
  },
  {
   "cell_type": "code",
   "execution_count": 64,
   "id": "bfbdb378-749b-4301-88ef-e11fc4830c87",
   "metadata": {},
   "outputs": [],
   "source": [
    "# res = cursor.execute(\"\"\"\n",
    "# SELECT path, (\n",
    "#     select count(*) \n",
    "#     from path2rule \n",
    "#     join rules on path2rule.rule_id == rules.id\n",
    "#     where p.id == path2rule.path_id\n",
    "# )\n",
    "# FROM paths p\n",
    "# \"\"\")"
   ]
  },
  {
   "cell_type": "code",
   "execution_count": 55,
   "id": "cb67a195-ff88-4db1-8075-c66fd1fe7b45",
   "metadata": {},
   "outputs": [],
   "source": [
    "# res = cursor.execute(\"\"\"\n",
    "# SELECT path, path2rule.rule_id as rule_id, rules.read, rules.admin, rules.disallow\n",
    "# FROM paths\n",
    "# join path2rule\n",
    "# on paths.id == path2rule.path_id\n",
    "# join rules\n",
    "# on path2rule.rule_id == rules.id\n",
    "# \"\"\")"
   ]
  },
  {
   "cell_type": "code",
   "execution_count": null,
   "id": "a3fe4661-bae8-4b1f-b6b5-a66e628626d2",
   "metadata": {},
   "outputs": [],
   "source": []
  },
  {
   "cell_type": "code",
   "execution_count": 44,
   "id": "96fe3182-0538-4fb2-82b5-30dd765f5b06",
   "metadata": {},
   "outputs": [
    {
     "name": "stdout",
     "output_type": "stream",
     "text": [
      "['path', 'rule_id', 'read', 'admin', 'disallow']\n",
      "['a@b.openmined.org/a.txt', 1, 1, 0, 0]\n",
      "['a@b.openmined.org/a.txt', 1, 1, 0, 1]\n",
      "['a@b.openmined.org/a.txt', 1, 0, 1, 0]\n",
      "['a@b.openmined.org/a.txt', 1, 1, 0, 0]\n",
      "['a@b.openmined.org/a.txt', 1, 1, 0, 0]\n",
      "['a@b.openmined.org/a.txt', 1, 1, 0, 1]\n",
      "['a@b.openmined.org/a.txt', 1, 0, 1, 0]\n",
      "['a@b.openmined.org/a.txt', 2, 1, 0, 0]\n",
      "['a@b.openmined.org/a.txt', 2, 1, 0, 1]\n",
      "['a@b.openmined.org/a.txt', 2, 0, 1, 0]\n",
      "['a@b.openmined.org/a.txt', 2, 1, 0, 0]\n",
      "['a@b.openmined.org/a.txt', 2, 1, 0, 0]\n",
      "['a@b.openmined.org/a.txt', 2, 1, 0, 1]\n",
      "['a@b.openmined.org/a.txt', 2, 0, 1, 0]\n",
      "['a@b.openmined.org/a.txt', 3, 1, 0, 0]\n",
      "['a@b.openmined.org/a.txt', 3, 1, 0, 1]\n",
      "['a@b.openmined.org/a.txt', 3, 0, 1, 0]\n",
      "['a@b.openmined.org/a.txt', 3, 1, 0, 0]\n",
      "['a@b.openmined.org/a.txt', 3, 1, 0, 0]\n",
      "['a@b.openmined.org/a.txt', 3, 1, 0, 1]\n",
      "['a@b.openmined.org/a.txt', 3, 0, 1, 0]\n",
      "['a@b.openmined.org/a.txt', 4, 1, 0, 0]\n",
      "['a@b.openmined.org/a.txt', 4, 1, 0, 1]\n",
      "['a@b.openmined.org/a.txt', 4, 0, 1, 0]\n",
      "['a@b.openmined.org/a.txt', 4, 1, 0, 0]\n",
      "['a@b.openmined.org/a.txt', 4, 1, 0, 0]\n",
      "['a@b.openmined.org/a.txt', 4, 1, 0, 1]\n",
      "['a@b.openmined.org/a.txt', 4, 0, 1, 0]\n",
      "['a@b.openmined.org/b.txt', 5, 1, 0, 0]\n",
      "['a@b.openmined.org/b.txt', 5, 1, 0, 1]\n",
      "['a@b.openmined.org/b.txt', 5, 0, 1, 0]\n",
      "['a@b.openmined.org/b.txt', 5, 1, 0, 0]\n",
      "['a@b.openmined.org/b.txt', 5, 1, 0, 0]\n",
      "['a@b.openmined.org/b.txt', 5, 1, 0, 1]\n",
      "['a@b.openmined.org/b.txt', 5, 0, 1, 0]\n",
      "['a@b.openmined.org/b.txt', 6, 1, 0, 0]\n",
      "['a@b.openmined.org/b.txt', 6, 1, 0, 1]\n",
      "['a@b.openmined.org/b.txt', 6, 0, 1, 0]\n",
      "['a@b.openmined.org/b.txt', 6, 1, 0, 0]\n",
      "['a@b.openmined.org/b.txt', 6, 1, 0, 0]\n",
      "['a@b.openmined.org/b.txt', 6, 1, 0, 1]\n",
      "['a@b.openmined.org/b.txt', 6, 0, 1, 0]\n",
      "['a@b.openmined.org/b.txt', 7, 1, 0, 0]\n",
      "['a@b.openmined.org/b.txt', 7, 1, 0, 1]\n",
      "['a@b.openmined.org/b.txt', 7, 0, 1, 0]\n",
      "['a@b.openmined.org/b.txt', 7, 1, 0, 0]\n",
      "['a@b.openmined.org/b.txt', 7, 1, 0, 0]\n",
      "['a@b.openmined.org/b.txt', 7, 1, 0, 1]\n",
      "['a@b.openmined.org/b.txt', 7, 0, 1, 0]\n"
     ]
    }
   ],
   "source": [
    "for i,x in enumerate(res.fetchall()):\n",
    "    if i==0:\n",
    "        print(list(x.keys()))\n",
    "    print(list(dict(x).values()))"
   ]
  },
  {
   "cell_type": "markdown",
   "id": "df33db2a",
   "metadata": {},
   "source": [
    "# APPENDIX"
   ]
  },
  {
   "cell_type": "code",
   "execution_count": null,
   "id": "adcdd3d2-35cd-480c-91b6-092bb0a460de",
   "metadata": {},
   "outputs": [],
   "source": []
  },
  {
   "cell_type": "code",
   "execution_count": 14,
   "id": "5e419a0d-cbe4-4474-9250-005fd769e5ec",
   "metadata": {},
   "outputs": [],
   "source": [
    "res = cursor.execute(\"\"\"\n",
    "SELECT\n",
    "    has_read_table.has_read,\n",
    "    has_admin_table.has_admin\n",
    "FROM\n",
    "(SELECT COALESCE\n",
    "    (\n",
    "        (\n",
    "            SELECT not disallow as has_read\n",
    "            FROM rules\n",
    "            WHERE read = 1\n",
    "            ORDER BY id DESC\n",
    "            LIMIT 1\n",
    "        ), \n",
    "        False\n",
    "    ) as has_read\n",
    ") as has_read_table \n",
    "\n",
    "CROSS JOIN\n",
    "(SELECT COALESCE\n",
    "    (\n",
    "        (\n",
    "            SELECT not disallow as has_admin\n",
    "            FROM rules\n",
    "            WHERE admin = 1\n",
    "            ORDER BY id DESC\n",
    "            LIMIT 1\n",
    "        ), \n",
    "        False\n",
    "    ) as has_admin\n",
    ") as has_admin_table \n",
    "\"\"\"\n",
    ")"
   ]
  },
  {
   "cell_type": "markdown",
   "id": "95bd4e60-aced-42f0-ad36-9f5456e13b1d",
   "metadata": {},
   "source": [
    "id | read | admin | disallow\n",
    "\n",
    "1  |  1  |  0  |  0\n",
    "\n",
    "2  |  1  |  0  |  1\n",
    "\n",
    "3  |  0  |  1  |  0\n",
    "\n",
    "4  |  1  |  0  |  0\n",
    "\n",
    "5  |  1  |  0  |  0\n",
    "\n",
    "6  |  1  |  0  |  1\n",
    "\n",
    "7  |  0  |  1  |  0"
   ]
  },
  {
   "cell_type": "code",
   "execution_count": 25,
   "id": "b7679a00-dd86-446f-9792-f553202534c0",
   "metadata": {},
   "outputs": [],
   "source": [
    "res = cursor.execute(\"\"\"\n",
    "select max(allow_score) > max(disallow_score) as read_permission\n",
    "from (\n",
    "            SELECT \n",
    "            row_number() over (order by id desc) * read * (1-disallow) * (1-terminal) +\n",
    "            row_number() over (order by id asc) * read * (1-disallow) * terminal * pow(10000, terminal) as allow_score,\n",
    "            row_number() over (order by id desc) * read * disallow * (1-terminal) +\n",
    "            row_number() over (order by id asc) * read * disallow * terminal * pow(10000, terminal) as disallow_score\n",
    "            FROM rules\n",
    "            where rules.id in (1,2,3,4)\n",
    "            ORDER BY id DESC\n",
    "            LIMIT 10\n",
    ")\n",
    "\"\"\")"
   ]
  },
  {
   "cell_type": "code",
   "execution_count": 26,
   "id": "588d0525-3eaf-4eb6-83f8-95976aaa93b8",
   "metadata": {},
   "outputs": [
    {
     "name": "stdout",
     "output_type": "stream",
     "text": [
      "['read_permission']\n",
      "[1]\n"
     ]
    }
   ],
   "source": [
    "for i,x in enumerate(res.fetchall()):\n",
    "    if i==0:\n",
    "        print(list(x.keys()))\n",
    "    print(list(dict(x).values()))"
   ]
  },
  {
   "cell_type": "code",
   "execution_count": null,
   "id": "2a543ccf-d169-4413-97c4-227a53139c91",
   "metadata": {},
   "outputs": [],
   "source": []
  },
  {
   "cell_type": "code",
   "execution_count": null,
   "id": "61b3415e-3232-4a63-bf14-d6f3eda0945e",
   "metadata": {},
   "outputs": [],
   "source": []
  },
  {
   "cell_type": "code",
   "execution_count": null,
   "id": "f04dc2cc-4af3-4ea4-9d7c-6415055e28b0",
   "metadata": {},
   "outputs": [],
   "source": [
    "# res = cursor.execute(\"\"\"\n",
    "# WITH has_read_table AS (\n",
    "# SELECT COALESCE\n",
    "#     (\n",
    "#         (\n",
    "#             SELECT not disallow as has_read\n",
    "#             FROM rules\n",
    "#             WHERE read = 1\n",
    "#             ORDER BY id DESC\n",
    "#             LIMIT 1\n",
    "#         ), \n",
    "#         False\n",
    "#     ) as has_read\n",
    "# ),\n",
    "# has_admin_table AS (\n",
    "# SELECT COALESCE\n",
    "#     (\n",
    "#         (\n",
    "#             SELECT not disallow as has_admin\n",
    "#             FROM rules\n",
    "#             WHERE admin = 1\n",
    "#             ORDER BY id DESC\n",
    "#             LIMIT 1\n",
    "#         ), \n",
    "#         False\n",
    "#     ) as has_admin\n",
    "# )\n",
    "# SELECT\n",
    "#     has_read_table.has_read,\n",
    "#     has_admin_table.has_admin\n",
    "# FROM\n",
    "#     has_read_table\n",
    "# CROSS JOIN\n",
    "#     has_admin_table;\n",
    "# \"\"\"\n",
    "# )"
   ]
  }
 ],
 "metadata": {
  "kernelspec": {
   "display_name": "Python [conda env:syftbox] *",
   "language": "python",
   "name": "conda-env-syftbox-py"
  },
  "language_info": {
   "codemirror_mode": {
    "name": "ipython",
    "version": 3
   },
   "file_extension": ".py",
   "mimetype": "text/x-python",
   "name": "python",
   "nbconvert_exporter": "python",
   "pygments_lexer": "ipython3",
   "version": "3.12.7"
  }
 },
 "nbformat": 4,
 "nbformat_minor": 5
}
