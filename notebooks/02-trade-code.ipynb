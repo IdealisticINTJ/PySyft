{
 "cells": [
  {
   "cell_type": "code",
   "execution_count": null,
   "id": "0",
   "metadata": {},
   "outputs": [],
   "source": [
    "# !uv pip install opendp"
   ]
  },
  {
   "cell_type": "code",
   "execution_count": 1,
   "id": "1",
   "metadata": {},
   "outputs": [],
   "source": [
    "from syftbox.lib import config_for_user, syftbox_code"
   ]
  },
  {
   "cell_type": "code",
   "execution_count": 2,
   "id": "2",
   "metadata": {},
   "outputs": [
    {
     "data": {
      "text/plain": [
       "ClientConfig(config_path='/Users/atrask/Documents/GitHub/syft/client_config.json', sync_folder='/Users/atrask/Desktop/SyftBox', port=8080, email='andrew@openmined.org', token=6461387628315936375, server_url='http://20.168.10.234:8080', email_token=None)"
      ]
     },
     "execution_count": 2,
     "metadata": {},
     "output_type": "execute_result"
    }
   ],
   "source": [
    "client_config = config_for_user(\"andrew@openmined.org\")\n",
    "client_config"
   ]
  },
  {
   "cell_type": "code",
   "execution_count": 3,
   "id": "3",
   "metadata": {},
   "outputs": [
    {
     "name": "stdout",
     "output_type": "stream",
     "text": [
      "> Setting Sync Dir to: /Users/atrask/Desktop/SyftBox\n"
     ]
    }
   ],
   "source": [
    "client_config.use()"
   ]
  },
  {
   "cell_type": "code",
   "execution_count": 4,
   "id": "4",
   "metadata": {},
   "outputs": [
    {
     "data": {
      "text/plain": [
       "DatasiteManifest(datasite='andrew@openmined.org', file_path='/Users/atrask/Desktop/SyftBox/andrew@openmined.org/public/manifest/manifest.json', datasets={'Netflix_TMDB_IMDB': {'name': 'Netflix_TMDB_IMDB', 'syft_link': {'host_or_ip': 'andrew@openmined.org', 'path': '/public/datasets/netflix_tmdb_imdb/NetflixViewingHistory_TMDB_IMDB.csv', 'port': 80, 'protocol': 'syft', 'query': ''}, 'schema': {'Unnamed: 0': 'int64', 'netflix_title': 'object', 'netflix_date': 'object', 'tmdb_id': 'int64', 'tmdb_title': 'object', 'tmdb_media_type': 'object', 'tmdb_poster_url': 'object', 'homepage': 'object', 'imdb_id': 'object', 'facebook_id': 'object', 'instagram_id': 'object', 'twitter_id': 'object', 'genre_ids': 'object', 'genre_names': 'object', 'imdb_runtime_minutes': 'int64', 'imdb_rating': 'float64'}, 'readme_link': {'host_or_ip': 'andrew@openmined.org', 'path': '/public/datasets/netflix_tmdb_imdb/README.md', 'port': 80, 'protocol': 'syft', 'query': ''}, 'loader_link': {'host_or_ip': 'andrew@openmined.org', 'path': '/public/datasets/netflix_tmdb_imdb/loader.py', 'port': 80, 'protocol': 'syft', 'query': ''}, 'has_private': True}, 'Trade Data': {'name': 'Trade Data', 'syft_link': {'host_or_ip': 'andrew@openmined.org', 'path': '/public/datasets/trade_data/trade_mock.csv', 'port': 80, 'protocol': 'syft', 'query': ''}, 'schema': {'Unnamed: 0': 'int64', 'Classification': 'object', 'Year': 'int64', 'Period': 'int64', 'Period Desc.': 'object', 'Aggregate Level': 'int64', 'Is Leaf Code': 'int64', 'Trade Flow Code': 'int64', 'Trade Flow': 'object', 'Reporter Code': 'int64', 'Reporter': 'object', 'Reporter ISO': 'float64', 'Partner Code': 'int64', 'Partner': 'object', 'Partner ISO': 'float64', 'Commodity Code': 'int64', 'Commodity': 'object', 'Qty Unit Code': 'int64', 'Qty Unit': 'float64', 'Qty': 'float64', 'Netweight (kg)': 'float64', 'Trade Value (US$)': 'int64', 'Flag': 'int64'}, 'readme_link': {'host_or_ip': 'andrew@openmined.org', 'path': '/public/datasets/trade_data/README.md', 'port': 80, 'protocol': 'syft', 'query': ''}, 'loader_link': {'host_or_ip': 'andrew@openmined.org', 'path': '/public/datasets/trade_data/loader.py', 'port': 80, 'protocol': 'syft', 'query': ''}, 'has_private': True}}, code={})"
      ]
     },
     "execution_count": 4,
     "metadata": {},
     "output_type": "execute_result"
    }
   ],
   "source": [
    "manifest = client_config.manifest\n",
    "manifest"
   ]
  },
  {
   "cell_type": "code",
   "execution_count": 6,
   "id": "5",
   "metadata": {},
   "outputs": [
    {
     "data": {
      "text/html": [
       "<div>\n",
       "<style scoped>\n",
       "    .dataframe tbody tr th:only-of-type {\n",
       "        vertical-align: middle;\n",
       "    }\n",
       "\n",
       "    .dataframe tbody tr th {\n",
       "        vertical-align: top;\n",
       "    }\n",
       "\n",
       "    .dataframe thead th {\n",
       "        text-align: right;\n",
       "    }\n",
       "</style>\n",
       "<table border=\"1\" class=\"dataframe\">\n",
       "  <thead>\n",
       "    <tr style=\"text-align: right;\">\n",
       "      <th></th>\n",
       "      <th>Name</th>\n",
       "      <th>Private</th>\n",
       "      <th>Syft Link</th>\n",
       "      <th>Schema</th>\n",
       "      <th>Readme</th>\n",
       "      <th>Loader</th>\n",
       "    </tr>\n",
       "  </thead>\n",
       "  <tbody>\n",
       "    <tr>\n",
       "      <th>0</th>\n",
       "      <td>Netflix_TMDB_IMDB</td>\n",
       "      <td>True</td>\n",
       "      <td>...istory_TMDB_IMDB.csv</td>\n",
       "      <td>['Unnamed: 0', 'netflix_title', 'netflix_date'...</td>\n",
       "      <td>_tmdb_imdb/README.md</td>\n",
       "      <td>_tmdb_imdb/loader.py</td>\n",
       "    </tr>\n",
       "    <tr>\n",
       "      <th>1</th>\n",
       "      <td>Trade Data</td>\n",
       "      <td>True</td>\n",
       "      <td>..._data/trade_mock.csv</td>\n",
       "      <td>['Unnamed: 0', 'Classification', 'Year', 'Peri...</td>\n",
       "      <td>trade_data/README.md</td>\n",
       "      <td>trade_data/loader.py</td>\n",
       "    </tr>\n",
       "    <tr>\n",
       "      <th>2</th>\n",
       "      <td>Netflix_TMDB_IMDB</td>\n",
       "      <td>True</td>\n",
       "      <td>...istory_TMDB_IMDB.csv</td>\n",
       "      <td>['Unnamed: 0', 'netflix_title', 'netflix_date'...</td>\n",
       "      <td>_tmdb_imdb/README.md</td>\n",
       "      <td>_tmdb_imdb/loader.py</td>\n",
       "    </tr>\n",
       "  </tbody>\n",
       "</table>\n",
       "</div>"
      ],
      "text/plain": [
       "DatasetResults(data=[TabularDataset(name='Netflix_TMDB_IMDB', syft_link=<SyftLink syft://andrew@openmined.org:80/public/datasets/netflix_tmdb_imdb/NetflixViewingHistory_TMDB_IMDB.csv>, schema={'Unnamed: 0': 'int64', 'netflix_title': 'object', 'netflix_date': 'object', 'tmdb_id': 'int64', 'tmdb_title': 'object', 'tmdb_media_type': 'object', 'tmdb_poster_url': 'object', 'homepage': 'object', 'imdb_id': 'object', 'facebook_id': 'object', 'instagram_id': 'object', 'twitter_id': 'object', 'genre_ids': 'object', 'genre_names': 'object', 'imdb_runtime_minutes': 'int64', 'imdb_rating': 'float64'}, readme_link=<SyftLink syft://andrew@openmined.org:80/public/datasets/netflix_tmdb_imdb/README.md>, loader_link=<SyftLink syft://andrew@openmined.org:80/public/datasets/netflix_tmdb_imdb/loader.py>, _client_config=ClientConfig(config_path='/Users/atrask/Documents/GitHub/syft/client_config.json', sync_folder='/Users/atrask/Desktop/SyftBox', port=8080, email='andrew@openmined.org', token=6461387628315936375, server_url='http://20.168.10.234:8080', email_token=None), has_private=True), TabularDataset(name='Trade Data', syft_link=<SyftLink syft://andrew@openmined.org:80/public/datasets/trade_data/trade_mock.csv>, schema={'Unnamed: 0': 'int64', 'Classification': 'object', 'Year': 'int64', 'Period': 'int64', 'Period Desc.': 'object', 'Aggregate Level': 'int64', 'Is Leaf Code': 'int64', 'Trade Flow Code': 'int64', 'Trade Flow': 'object', 'Reporter Code': 'int64', 'Reporter': 'object', 'Reporter ISO': 'float64', 'Partner Code': 'int64', 'Partner': 'object', 'Partner ISO': 'float64', 'Commodity Code': 'int64', 'Commodity': 'object', 'Qty Unit Code': 'int64', 'Qty Unit': 'float64', 'Qty': 'float64', 'Netweight (kg)': 'float64', 'Trade Value (US$)': 'int64', 'Flag': 'int64'}, readme_link=<SyftLink syft://andrew@openmined.org:80/public/datasets/trade_data/README.md>, loader_link=<SyftLink syft://andrew@openmined.org:80/public/datasets/trade_data/loader.py>, _client_config=ClientConfig(config_path='/Users/atrask/Documents/GitHub/syft/client_config.json', sync_folder='/Users/atrask/Desktop/SyftBox', port=8080, email='andrew@openmined.org', token=6461387628315936375, server_url='http://20.168.10.234:8080', email_token=None), has_private=True), TabularDataset(name='Netflix_TMDB_IMDB', syft_link=<SyftLink syft://madhava@openmined.org:80/public/datasets/netflix_tmdb_imdb/NetflixViewingHistory_TMDB_IMDB.csv>, schema={'Unnamed: 0': 'int64', 'netflix_title': 'object', 'netflix_date': 'object', 'tmdb_id': 'int64', 'tmdb_title': 'object', 'tmdb_media_type': 'object', 'tmdb_poster_url': 'object', 'homepage': 'object', 'imdb_id': 'object', 'facebook_id': 'object', 'instagram_id': 'object', 'twitter_id': 'object', 'genre_ids': 'object', 'genre_names': 'object', 'imdb_runtime_minutes': 'int64', 'imdb_rating': 'float64'}, readme_link=<SyftLink syft://madhava@openmined.org:80/public/datasets/netflix_tmdb_imdb/README.md>, loader_link=<SyftLink syft://madhava@openmined.org:80/public/datasets/netflix_tmdb_imdb/loader.py>, _client_config=ClientConfig(config_path='/Users/atrask/Documents/GitHub/syft/client_config.json', sync_folder='/Users/atrask/Desktop/SyftBox', port=8080, email='andrew@openmined.org', token=6461387628315936375, server_url='http://20.168.10.234:8080', email_token=None), has_private=True)])"
      ]
     },
     "execution_count": 6,
     "metadata": {},
     "output_type": "execute_result"
    }
   ],
   "source": [
    "datasets = client_config.get_datasets()\n",
    "datasets"
   ]
  },
  {
   "cell_type": "code",
   "execution_count": null,
   "id": "6",
   "metadata": {},
   "outputs": [],
   "source": []
  },
  {
   "cell_type": "code",
   "execution_count": 7,
   "id": "7",
   "metadata": {},
   "outputs": [
    {
     "data": {
      "text/html": [
       "<strong>Netflix_TMDB_IMDB</strong>\n",
       "\n",
       "README:\n",
       "<h1>Netflix_TMDB_IMDB</h1>\n",
       "<p>Private data: True</p>\n",
       "<p>Schema: {'Unnamed: 0': 'int64', 'netflix_title': 'object', 'netflix_date': 'object', 'tmdb_id': 'int64', 'tmdb_title': 'object', 'tmdb_media_type': 'object', 'tmdb_poster_url': 'object', 'homepage': 'object', 'imdb_id': 'object', 'facebook_id': 'object', 'instagram_id': 'object', 'twitter_id': 'object', 'genre_ids': 'object', 'genre_names': 'object', 'imdb_runtime_minutes': 'int64', 'imdb_rating': 'float64'}</p>\n",
       "<h2>Import Syntax</h2>\n",
       "<p>client_config.use()\n",
       "from syftbox.lib.andrew.at.openmined.org.datasets import netflix_tmdb_imdb</p>\n",
       "<h2>Python Loader Example</h2>\n",
       "<p>df = pd.read_csv(sy_path(\"syft://andrew@openmined.org:80/public/datasets/netflix_tmdb_imdb/NetflixViewingHistory_TMDB_IMDB.csv\"))</p>\n",
       "<div>\n",
       "<style scoped>\n",
       "    .dataframe tbody tr th:only-of-type {\n",
       "        vertical-align: middle;\n",
       "    }\n",
       "\n",
       "    .dataframe tbody tr th {\n",
       "        vertical-align: top;\n",
       "    }\n",
       "\n",
       "    .dataframe thead th {\n",
       "        text-align: right;\n",
       "    }\n",
       "</style>\n",
       "<table border=\"1\" class=\"dataframe\">\n",
       "  <thead>\n",
       "    <tr style=\"text-align: right;\">\n",
       "      <th></th>\n",
       "      <th>Attribute</th>\n",
       "      <th>Value</th>\n",
       "    </tr>\n",
       "  </thead>\n",
       "  <tbody>\n",
       "    <tr>\n",
       "      <th>0</th>\n",
       "      <td>Name</td>\n",
       "      <td>Netflix_TMDB_IMDB</td>\n",
       "    </tr>\n",
       "    <tr>\n",
       "      <th>1</th>\n",
       "      <td>Syft Link</td>\n",
       "      <td>...istory_TMDB_IMDB.csv</td>\n",
       "    </tr>\n",
       "    <tr>\n",
       "      <th>2</th>\n",
       "      <td>Schema</td>\n",
       "      <td>{'Unnamed: 0': 'int64', 'netflix_title': 'obje...</td>\n",
       "    </tr>\n",
       "    <tr>\n",
       "      <th>3</th>\n",
       "      <td>Readme</td>\n",
       "      <td>..._tmdb_imdb/README.md</td>\n",
       "    </tr>\n",
       "    <tr>\n",
       "      <th>4</th>\n",
       "      <td>Loader</td>\n",
       "      <td>..._tmdb_imdb/loader.py</td>\n",
       "    </tr>\n",
       "  </tbody>\n",
       "</table>\n",
       "</div>"
      ],
      "text/plain": [
       "TabularDataset(name='Netflix_TMDB_IMDB', syft_link=<SyftLink syft://andrew@openmined.org:80/public/datasets/netflix_tmdb_imdb/NetflixViewingHistory_TMDB_IMDB.csv>, schema={'Unnamed: 0': 'int64', 'netflix_title': 'object', 'netflix_date': 'object', 'tmdb_id': 'int64', 'tmdb_title': 'object', 'tmdb_media_type': 'object', 'tmdb_poster_url': 'object', 'homepage': 'object', 'imdb_id': 'object', 'facebook_id': 'object', 'instagram_id': 'object', 'twitter_id': 'object', 'genre_ids': 'object', 'genre_names': 'object', 'imdb_runtime_minutes': 'int64', 'imdb_rating': 'float64'}, readme_link=<SyftLink syft://andrew@openmined.org:80/public/datasets/netflix_tmdb_imdb/README.md>, loader_link=<SyftLink syft://andrew@openmined.org:80/public/datasets/netflix_tmdb_imdb/loader.py>, _client_config=ClientConfig(config_path='/Users/atrask/Documents/GitHub/syft/client_config.json', sync_folder='/Users/atrask/Desktop/SyftBox', port=8080, email='andrew@openmined.org', token=6461387628315936375, server_url='http://20.168.10.234:8080', email_token=None), has_private=True)"
      ]
     },
     "execution_count": 7,
     "metadata": {},
     "output_type": "execute_result"
    }
   ],
   "source": [
    "trade_data = datasets[0]\n",
    "trade_data"
   ]
  },
  {
   "cell_type": "code",
   "execution_count": 8,
   "id": "8",
   "metadata": {},
   "outputs": [
    {
     "data": {
      "text/plain": [
       "PosixPath('/Users/atrask/Desktop/SyftBox/andrew@openmined.org/public/datasets/netflix_tmdb_imdb/NetflixViewingHistory_TMDB_IMDB.csv')"
      ]
     },
     "execution_count": 8,
     "metadata": {},
     "output_type": "execute_result"
    }
   ],
   "source": [
    "trade_data.file_path"
   ]
  },
  {
   "cell_type": "code",
   "execution_count": 9,
   "id": "9",
   "metadata": {},
   "outputs": [
    {
     "data": {
      "text/plain": [
       "'from syftbox.lib.andrew.at.openmined.org.datasets import netflix_tmdb_imdb'"
      ]
     },
     "execution_count": 9,
     "metadata": {},
     "output_type": "execute_result"
    }
   ],
   "source": [
    "trade_data.import_string"
   ]
  },
  {
   "cell_type": "markdown",
   "id": "10",
   "metadata": {},
   "source": [
    "# Decorator Style"
   ]
  },
  {
   "cell_type": "code",
   "execution_count": 11,
   "id": "11",
   "metadata": {},
   "outputs": [
    {
     "data": {
      "text/html": [
       "<strong>Trade Data</strong>\n",
       "\n",
       "README:\n",
       "<h1>Trade Data</h1>\n",
       "<p>Private data: True</p>\n",
       "<p>Schema: {'Unnamed: 0': 'int64', 'Classification': 'object', 'Year': 'int64', 'Period': 'int64', 'Period Desc.': 'object', 'Aggregate Level': 'int64', 'Is Leaf Code': 'int64', 'Trade Flow Code': 'int64', 'Trade Flow': 'object', 'Reporter Code': 'int64', 'Reporter': 'object', 'Reporter ISO': 'float64', 'Partner Code': 'int64', 'Partner': 'object', 'Partner ISO': 'float64', 'Commodity Code': 'int64', 'Commodity': 'object', 'Qty Unit Code': 'int64', 'Qty Unit': 'float64', 'Qty': 'float64', 'Netweight (kg)': 'float64', 'Trade Value (US$)': 'int64', 'Flag': 'int64'}</p>\n",
       "<h2>Import Syntax</h2>\n",
       "<p>client_config.use()\n",
       "from syftbox.lib.andrew.at.openmined.org.datasets import trade_data</p>\n",
       "<h2>Python Loader Example</h2>\n",
       "<p>df = pd.read_csv(sy_path(\"syft://andrew@openmined.org:80/public/datasets/trade_data/trade_mock.csv\"))</p>\n",
       "<div>\n",
       "<style scoped>\n",
       "    .dataframe tbody tr th:only-of-type {\n",
       "        vertical-align: middle;\n",
       "    }\n",
       "\n",
       "    .dataframe tbody tr th {\n",
       "        vertical-align: top;\n",
       "    }\n",
       "\n",
       "    .dataframe thead th {\n",
       "        text-align: right;\n",
       "    }\n",
       "</style>\n",
       "<table border=\"1\" class=\"dataframe\">\n",
       "  <thead>\n",
       "    <tr style=\"text-align: right;\">\n",
       "      <th></th>\n",
       "      <th>Attribute</th>\n",
       "      <th>Value</th>\n",
       "    </tr>\n",
       "  </thead>\n",
       "  <tbody>\n",
       "    <tr>\n",
       "      <th>0</th>\n",
       "      <td>Name</td>\n",
       "      <td>Trade Data</td>\n",
       "    </tr>\n",
       "    <tr>\n",
       "      <th>1</th>\n",
       "      <td>Syft Link</td>\n",
       "      <td>..._data/trade_mock.csv</td>\n",
       "    </tr>\n",
       "    <tr>\n",
       "      <th>2</th>\n",
       "      <td>Schema</td>\n",
       "      <td>{'Unnamed: 0': 'int64', 'Classification': 'obj...</td>\n",
       "    </tr>\n",
       "    <tr>\n",
       "      <th>3</th>\n",
       "      <td>Readme</td>\n",
       "      <td>...trade_data/README.md</td>\n",
       "    </tr>\n",
       "    <tr>\n",
       "      <th>4</th>\n",
       "      <td>Loader</td>\n",
       "      <td>...trade_data/loader.py</td>\n",
       "    </tr>\n",
       "  </tbody>\n",
       "</table>\n",
       "</div>"
      ],
      "text/plain": [
       "TabularDataset(name='Trade Data', syft_link=<SyftLink syft://andrew@openmined.org:80/public/datasets/trade_data/trade_mock.csv>, schema={'Unnamed: 0': 'int64', 'Classification': 'object', 'Year': 'int64', 'Period': 'int64', 'Period Desc.': 'object', 'Aggregate Level': 'int64', 'Is Leaf Code': 'int64', 'Trade Flow Code': 'int64', 'Trade Flow': 'object', 'Reporter Code': 'int64', 'Reporter': 'object', 'Reporter ISO': 'float64', 'Partner Code': 'int64', 'Partner': 'object', 'Partner ISO': 'float64', 'Commodity Code': 'int64', 'Commodity': 'object', 'Qty Unit Code': 'int64', 'Qty Unit': 'float64', 'Qty': 'float64', 'Netweight (kg)': 'float64', 'Trade Value (US$)': 'int64', 'Flag': 'int64'}, readme_link=<SyftLink syft://andrew@openmined.org:80/public/datasets/trade_data/README.md>, loader_link=<SyftLink syft://andrew@openmined.org:80/public/datasets/trade_data/loader.py>, _client_config=ClientConfig(config_path='/Users/atrask/Documents/GitHub/syft/client_config.json', sync_folder='/Users/atrask/Desktop/SyftBox', port=8080, email='andrew@openmined.org', token=6461387628315936375, server_url='http://20.168.10.234:8080', email_token=None), has_private=True)"
      ]
     },
     "execution_count": 11,
     "metadata": {},
     "output_type": "execute_result"
    }
   ],
   "source": [
    "from syftbox.lib.andrew.at.openmined.org.datasets import trade_data\n",
    "\n",
    "trade_data"
   ]
  },
  {
   "cell_type": "code",
   "execution_count": 13,
   "id": "c48a659a-3560-47a9-a53f-e0d79664bed1",
   "metadata": {},
   "outputs": [
    {
     "name": "stdout",
     "output_type": "stream",
     "text": [
      "\u001b[2K\u001b[2mResolved \u001b[1m1 package\u001b[0m \u001b[2min 345ms\u001b[0m\u001b[0m                                          \u001b[0m\n",
      "\u001b[2K\u001b[2mPrepared \u001b[1m1 package\u001b[0m \u001b[2min 2.06s\u001b[0m\u001b[0m                                              \n",
      "\u001b[2K\u001b[2mInstalled \u001b[1m1 package\u001b[0m \u001b[2min 2ms\u001b[0m\u001b[0m                                  \u001b[0m\n",
      " \u001b[32m+\u001b[39m \u001b[1mopendp\u001b[0m\u001b[2m==0.11.1\u001b[0m\n"
     ]
    }
   ],
   "source": [
    "!uv pip install opendp"
   ]
  },
  {
   "cell_type": "code",
   "execution_count": 14,
   "id": "12",
   "metadata": {},
   "outputs": [
    {
     "name": "stdout",
     "output_type": "stream",
     "text": [
      "(9.738381, -11.181064117927578)\n",
      "Got mock\n"
     ]
    },
    {
     "data": {
      "text/plain": [
       "(9.738381, -11.181064117927578)"
      ]
     },
     "execution_count": 14,
     "metadata": {},
     "output_type": "execute_result"
    }
   ],
   "source": [
    "@syftbox_code\n",
    "def myanalysis(trade_data):\n",
    "    import opendp.prelude as dp\n",
    "\n",
    "    dp.enable_features(\"contrib\")\n",
    "\n",
    "    aggregate = 0.0\n",
    "    base_lap = dp.m.make_laplace(\n",
    "        dp.atom_domain(T=float),\n",
    "        dp.absolute_distance(T=float),\n",
    "        scale=5.0,\n",
    "    )\n",
    "    noise = base_lap(aggregate)\n",
    "\n",
    "    total = trade_data[\"Trade Value (US$)\"].sum()\n",
    "    result = (float(total / 1_000_000), float(noise))\n",
    "\n",
    "    print(result)\n",
    "    if result[0] > 3:\n",
    "        print(\"Got mock\")\n",
    "    else:\n",
    "        print(\"Got private\")\n",
    "    return result\n",
    "\n",
    "\n",
    "myanalysis(trade_data.load())"
   ]
  },
  {
   "cell_type": "code",
   "execution_count": 15,
   "id": "13",
   "metadata": {},
   "outputs": [
    {
     "data": {
      "text/plain": [
       "'/Users/atrask/Desktop/SyftBox/staging/myanalysis'"
      ]
     },
     "execution_count": 15,
     "metadata": {},
     "output_type": "execute_result"
    }
   ],
   "source": [
    "# TEMP bug where we cant use theirs_with_my_read because the parent write is ignored but allowing the perm file to set its own\n",
    "# rules wont work either so we need to solve the permissioning of files themselves\n",
    "path = myanalysis.to_flow(\n",
    "    client_config=client_config, inputs={\"trade_data\": trade_data}\n",
    ")\n",
    "path"
   ]
  },
  {
   "cell_type": "code",
   "execution_count": null,
   "id": "14",
   "metadata": {},
   "outputs": [],
   "source": [
    "# also publish live"
   ]
  },
  {
   "cell_type": "code",
   "execution_count": null,
   "id": "15",
   "metadata": {},
   "outputs": [],
   "source": [
    "myanalysis.publish(manifest=client_config.manifest)"
   ]
  },
  {
   "cell_type": "code",
   "execution_count": null,
   "id": "16",
   "metadata": {},
   "outputs": [],
   "source": []
  }
 ],
 "metadata": {
  "kernelspec": {
   "display_name": "Python 3 (ipykernel)",
   "language": "python",
   "name": "python3"
  },
  "language_info": {
   "codemirror_mode": {
    "name": "ipython",
    "version": 3
   },
   "file_extension": ".py",
   "mimetype": "text/x-python",
   "name": "python",
   "nbconvert_exporter": "python",
   "pygments_lexer": "ipython3",
   "version": "3.12.6"
  }
 },
 "nbformat": 4,
 "nbformat_minor": 5
}
