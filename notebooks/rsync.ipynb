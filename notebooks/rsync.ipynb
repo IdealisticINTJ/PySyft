{
 "cells": [
  {
   "cell_type": "code",
   "execution_count": 2,
   "id": "dba2cb26-9705-4886-9b3d-3df3b56426e5",
   "metadata": {},
   "outputs": [],
   "source": [
    "import py_fast_rsync, blake3, json\n",
    "from faker import Faker\n",
    "import sys\n",
    "import hashlib\n",
    "from pathlib import Path\n",
    "\n",
    "fake = Faker()"
   ]
  },
  {
   "cell_type": "code",
   "execution_count": 3,
   "id": "2a0552cd-ec8d-4884-9e1c-3e555501991a",
   "metadata": {},
   "outputs": [],
   "source": [
    "data_folder = Path(\"./data\")\n",
    "data_folder.mkdir(exist_ok=True)"
   ]
  },
  {
   "cell_type": "code",
   "execution_count": 4,
   "id": "7584b149-cb2a-4ed0-acbd-a2bea8acbb1a",
   "metadata": {},
   "outputs": [],
   "source": [
    "def create_txt(size_in_kb):\n",
    "    content = \"\"\n",
    "    while len(content.encode('utf-8')) < size_in_kb * 1024:\n",
    "        content += fake.text() + \"\\n\"\n",
    "    return content\n",
    "\n",
    "for size in [1, 10, 100, 1000, 100_000]:\n",
    "    file_content = create_txt(size)\n",
    "    file_path = data_folder / f'{size}KB.txt'\n",
    "    file_path.write_text(file_content)"
   ]
  },
  {
   "cell_type": "code",
   "execution_count": 5,
   "id": "7459e85b-2122-414a-8923-6074cab1bbfa",
   "metadata": {},
   "outputs": [],
   "source": [
    "import py_fast_rsync\n",
    "from py_fast_rsync import signature"
   ]
  },
  {
   "cell_type": "code",
   "execution_count": 10,
   "id": "67231432-3676-48b1-8e82-6c8b0f120bc3",
   "metadata": {},
   "outputs": [
    {
     "data": {
      "text/plain": [
       "(1024037, 1023937)"
      ]
     },
     "execution_count": 10,
     "metadata": {},
     "output_type": "execute_result"
    }
   ],
   "source": [
    "with open(\"./data/1000KB.txt\", \"rb\") as f:\n",
    "    data_server = f.read()\n",
    "\n",
    "data_local = data_server[:-100]\n",
    "\n",
    "# data_server has 100 more characters\n",
    "len(data_server), len(data_local)"
   ]
  },
  {
   "cell_type": "code",
   "execution_count": 11,
   "id": "0a279881-012f-4c8e-9856-773dd7c3c138",
   "metadata": {},
   "outputs": [
    {
     "name": "stdout",
     "output_type": "stream",
     "text": [
      "sending 3045 bytes to server\n",
      "sending 4180 + 65 bytes to client\n",
      "bytes saved 1019825\n"
     ]
    }
   ],
   "source": [
    "# Scenario 1: client pulls changes from server\n",
    "\n",
    "# 1. client sends signature to server\n",
    "# POST /rsync/get_diff {path: str, signature: blob}\n",
    "sig_local = signature.calculate(data_local)\n",
    "print(f\"sending {sys.getsizeof(sig_local)} bytes to server\")\n",
    "\n",
    "# 2. server calculates diff and hash for verification\n",
    "diff = py_fast_rsync.diff(sig_local, data_server)\n",
    "hash_server = hashlib.sha256(data_server).digest()\n",
    "\n",
    "# 3. server returns diff to client\n",
    "print(f\"sending {sys.getsizeof(diff)} + {sys.getsizeof(hash_server)} bytes to client\")\n",
    "\n",
    "# 4. client applies diff\n",
    "result = py_fast_rsync.apply(data_local, diff)\n",
    "\n",
    "# 5. client verifies the result\n",
    "hash_result = hashlib.sha256(result).digest()\n",
    "assert hash_result == hash_server\n",
    "assert data_server == result\n",
    "\n",
    "# Calculate bytes saved\n",
    "bytes_saved = sys.getsizeof(data_server) - sys.getsizeof(diff) - sys.getsizeof(hash_server)\n",
    "print(\"bytes saved\", bytes_saved)"
   ]
  },
  {
   "cell_type": "code",
   "execution_count": 12,
   "id": "db507e30-d22f-4ac2-a0d7-c59a84b7c203",
   "metadata": {},
   "outputs": [
    {
     "name": "stdout",
     "output_type": "stream",
     "text": [
      "sending 3057 bytes to client\n",
      "sending 4080 + 65 bytes to server\n",
      "bytes saved 1019925\n"
     ]
    }
   ],
   "source": [
    "# Scenario 2: client pushes changes to server\n",
    "\n",
    "# 1. client requests signature from server\n",
    "# GET /rsync/get_signature?path={path}\n",
    "sig_server = signature.calculate(data_server)\n",
    "print(f\"sending {sys.getsizeof(sig_server)} bytes to client\")\n",
    "\n",
    "# 2. client calculates diff and hash for verification\n",
    "diff = py_fast_rsync.diff(sig_server, data_local)\n",
    "hash_local = hashlib.sha256(data_local).digest()\n",
    "\n",
    "# 3. client sends diff to server\n",
    "# POST /rsync/apply_diff\n",
    "print(f\"sending {sys.getsizeof(diff)} + {sys.getsizeof(hash_local)} bytes to server\")\n",
    "\n",
    "# 4. server applies diff\n",
    "result = py_fast_rsync.apply(data_server, diff)\n",
    "\n",
    "# 5. server verifies the result\n",
    "hash_result = hashlib.sha256(result).digest()\n",
    "assert hash_result == hash_local\n",
    "assert data_local == result\n",
    "\n",
    "# Calculate bytes saved\n",
    "bytes_saved = sys.getsizeof(data_server) - sys.getsizeof(diff) - sys.getsizeof(hash_local)\n",
    "print(\"bytes saved\", bytes_saved)"
   ]
  },
  {
   "cell_type": "markdown",
   "id": "ffee7f54-8fd1-499b-bade-2fb3951e2cb6",
   "metadata": {},
   "source": [
    "# TODO"
   ]
  },
  {
   "cell_type": "code",
   "execution_count": 13,
   "id": "350edeec-ebb7-4344-8098-fdd7a5dc0993",
   "metadata": {},
   "outputs": [
    {
     "ename": "ModuleNotFoundError",
     "evalue": "No module named 'pydantic'",
     "output_type": "error",
     "traceback": [
      "\u001b[0;31m---------------------------------------------------------------------------\u001b[0m",
      "\u001b[0;31mModuleNotFoundError\u001b[0m                       Traceback (most recent call last)",
      "Cell \u001b[0;32mIn[13], line 1\u001b[0m\n\u001b[0;32m----> 1\u001b[0m \u001b[38;5;28;01mfrom\u001b[39;00m \u001b[38;5;21;01mpydantic\u001b[39;00m \u001b[38;5;28;01mimport\u001b[39;00m BaseModel\n\u001b[1;32m      2\u001b[0m \u001b[38;5;28;01mfrom\u001b[39;00m \u001b[38;5;21;01mfastapi\u001b[39;00m \u001b[38;5;28;01mimport\u001b[39;00m FastAPI\n\u001b[1;32m      4\u001b[0m app \u001b[38;5;241m=\u001b[39m FastAPI()\n",
      "\u001b[0;31mModuleNotFoundError\u001b[0m: No module named 'pydantic'"
     ]
    }
   ],
   "source": [
    "from pydantic import BaseModel\n",
    "from fastapi import FastAPI\n",
    "\n",
    "app = FastAPI()\n",
    "\n",
    "class SignatureRequest(BaseModel):\n",
    "    path: str\n",
    "    signature: bytes\n",
    "\n",
    "class DiffResponse(BaseModel):\n",
    "    path: str\n",
    "    diff: str\n",
    "    hash: bytes\n",
    "\n",
    "class SignatureResponse(BaseModel):\n",
    "    path: str\n",
    "    signature: bytes\n",
    "\n",
    "class FileRequest(BaseModel):\n",
    "    path: str\n",
    "\n",
    "class DiffRequest(BaseModel):\n",
    "    path: str\n",
    "    diff: str\n",
    "    hash: bytes\n",
    "\n",
    "\n",
    "# Endpoint definitions\n",
    "\n",
    "@app.post(\"/rsync/get_diffs\")\n",
    "async def get_diffs(signature_requests: list[SignatureRequest]) -> list[DiffResponse]:\n",
    "    pass\n",
    "\n",
    "@app.get(\"/rsync/get_signatures\")\n",
    "async def get_signatures(file_requests: list[FileRequest]) -> list[SignatureResponse]:\n",
    "    pass\n",
    "\n",
    "@app.post(\"/rsync/apply_diffs\")\n",
    "async def apply_diffs(diff_requests: list[DiffRequest]) -> None:\n",
    "    pass"
   ]
  },
  {
   "cell_type": "code",
   "execution_count": null,
   "id": "02f27111-e6af-4407-921a-36c87eddd9f7",
   "metadata": {},
   "outputs": [],
   "source": []
  }
 ],
 "metadata": {
  "kernelspec": {
   "display_name": "Python 3 (ipykernel)",
   "language": "python",
   "name": "python3"
  },
  "language_info": {
   "codemirror_mode": {
    "name": "ipython",
    "version": 3
   },
   "file_extension": ".py",
   "mimetype": "text/x-python",
   "name": "python",
   "nbconvert_exporter": "python",
   "pygments_lexer": "ipython3",
   "version": "3.9.6"
  }
 },
 "nbformat": 4,
 "nbformat_minor": 5
}
