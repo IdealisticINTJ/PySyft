{
 "cells": [
  {
   "cell_type": "code",
   "execution_count": 22,
   "id": "6a46c4f7-6570-4087-9f80-012cf3270e66",
   "metadata": {},
   "outputs": [],
   "source": [
    "#!pip install gitpython"
   ]
  },
  {
   "cell_type": "code",
   "execution_count": 26,
   "id": "b8654bf1-da5b-459d-9ff6-386d05fa9301",
   "metadata": {},
   "outputs": [],
   "source": [
    "import os\n",
    "from pathlib import Path\n",
    "import json\n",
    "from git import Repo"
   ]
  },
  {
   "cell_type": "code",
   "execution_count": 1,
   "id": "b661f80e-d7cd-4783-a21b-afc2cb9ed6db",
   "metadata": {},
   "outputs": [],
   "source": [
    "madhava = \"@madhava@syft-cache.org\""
   ]
  },
  {
   "cell_type": "code",
   "execution_count": null,
   "id": "7d2deafe-a66d-4867-a438-101b3b4cb0d4",
   "metadata": {},
   "outputs": [],
   "source": []
  },
  {
   "cell_type": "code",
   "execution_count": 15,
   "id": "d5a3d6fa-bbe7-4583-a636-6ddcec989701",
   "metadata": {},
   "outputs": [
    {
     "data": {
      "text/plain": [
       "PosixPath('/Users/madhavajay/dev/syft')"
      ]
     },
     "execution_count": 15,
     "metadata": {},
     "output_type": "execute_result"
    }
   ],
   "source": [
    "HERE=!pwd\n",
    "HERE = Path(HERE[0])\n",
    "HERE"
   ]
  },
  {
   "cell_type": "code",
   "execution_count": 18,
   "id": "52d1e9e6-121a-4417-9b68-dd0b6e521340",
   "metadata": {},
   "outputs": [
    {
     "data": {
      "text/plain": [
       "PosixPath('/Users/madhavajay/dev/syft/test_env')"
      ]
     },
     "execution_count": 18,
     "metadata": {},
     "output_type": "execute_result"
    }
   ],
   "source": [
    "SYFT_HOME = HERE / \"test_env\"\n",
    "SYFT_HOME"
   ]
  },
  {
   "cell_type": "code",
   "execution_count": 141,
   "id": "3f3c050c-88f5-488e-991b-0d3e4fc4352b",
   "metadata": {},
   "outputs": [],
   "source": [
    "READ_PERMISSION = \"r\"\n",
    "WRITE_PERMISSION = \"w\""
   ]
  },
  {
   "cell_type": "code",
   "execution_count": 176,
   "id": "654b089d-1996-481c-96a9-846667a5a4a7",
   "metadata": {},
   "outputs": [],
   "source": [
    "default_permissions = {READ_PERMISSION:[], WRITE_PERMISSION: []}"
   ]
  },
  {
   "cell_type": "code",
   "execution_count": null,
   "id": "8ff96551-4def-4924-800a-0912a00dbba6",
   "metadata": {},
   "outputs": [],
   "source": []
  },
  {
   "cell_type": "code",
   "execution_count": 177,
   "id": "2b5c2d11-95a5-447a-a698-efd791448056",
   "metadata": {},
   "outputs": [],
   "source": [
    "def git_repo_path_for_user(user, syft_home=SYFT_HOME):\n",
    "    return syft_home / user"
   ]
  },
  {
   "cell_type": "code",
   "execution_count": 178,
   "id": "4c319455-9903-4fb8-b857-918f43e43629",
   "metadata": {},
   "outputs": [],
   "source": [
    "def git_repo_for_user(user, syft_home=SYFT_HOME):\n",
    "    git_path = git_repo_path_for_user(user, syft_home=syft_home)\n",
    "    repo = Repo(git_path)\n",
    "    return repo"
   ]
  },
  {
   "cell_type": "code",
   "execution_count": 179,
   "id": "0def76f8-cdc1-4e24-bcde-51a38010cc02",
   "metadata": {},
   "outputs": [],
   "source": [
    "madhava_repo = git_repo_for_user(madhava)\n",
    "repo = madhava_repo"
   ]
  },
  {
   "cell_type": "code",
   "execution_count": 180,
   "id": "9ce30cdf-0a8d-446b-907d-1ab8701dcddb",
   "metadata": {},
   "outputs": [],
   "source": [
    "# diff = madhava_repo.git.diff('--cached')"
   ]
  },
  {
   "cell_type": "code",
   "execution_count": 181,
   "id": "79ae8ac8-f86f-4d77-a878-c7e43213be30",
   "metadata": {},
   "outputs": [],
   "source": []
  },
  {
   "cell_type": "code",
   "execution_count": 207,
   "id": "63971cde-4141-4d33-b6b3-36d9dd855506",
   "metadata": {},
   "outputs": [],
   "source": [
    "def user_permission_allowed(permissions, user, permission):\n",
    "    perm = permissions[permission]\n",
    "    return user in perm or \"*\" in perm"
   ]
  },
  {
   "cell_type": "code",
   "execution_count": 208,
   "id": "0257d64f-e3da-4303-838c-1ee1ebe113f7",
   "metadata": {},
   "outputs": [],
   "source": [
    "def validate_perm_file(perm_file_path, user):\n",
    "    # trigger warning\n",
    "    with open(perm_file_path, \"r\") as f:\n",
    "        perms = default_permissions\n",
    "        try:\n",
    "            json_data = json.loads(f.read())\n",
    "        except Exception as e:\n",
    "            json_data = perms\n",
    "        perms.update(json_data)\n",
    "        \n",
    "    allowed = user_permission_allowed(perms, user, WRITE_PERMISSION)\n",
    "    if not allowed:\n",
    "        file_path = str(perm_file_path).replace(\".syftperm\", \"\")\n",
    "        raise Exception(f\"User: {user} does not have {WRITE_PERMISSION} for {file_path}\")"
   ]
  },
  {
   "cell_type": "code",
   "execution_count": 209,
   "id": "da4a2daf-05a3-4f74-accc-885f17d55d17",
   "metadata": {},
   "outputs": [],
   "source": [
    "def validate_diffs(file_diffs, user) -> bool:\n",
    "    # split perm and non perm folder / files from the diff\n",
    "    permission_file_paths = {}\n",
    "    actual_file_paths = {}\n",
    "    \n",
    "    # build the two dicts\n",
    "    for diff in file_diffs:\n",
    "        path = diff.b_path\n",
    "        if path.endswith(\".syftperm\"):\n",
    "            actual = path.replace(\".syftperm\", \"\")\n",
    "            if path not in permission_file_paths:\n",
    "                permission_file_paths[path] = actual\n",
    "            if path not in actual_file_paths:\n",
    "                actual_file_paths[actual] = path\n",
    "        else:\n",
    "            perm = path + \".syftperm\"\n",
    "            if path not in permission_file_paths:\n",
    "                permission_file_paths[perm] = path\n",
    "            if path not in actual_file_paths:\n",
    "                actual_file_paths[path] = perm\n",
    "    user_path = git_repo_path_for_user(user)\n",
    "    for path in actual_file_paths.keys():\n",
    "        file_path = user_path / Path(path)\n",
    "        exists = True if os.path.exists(file_path) else False\n",
    "        if not exists:\n",
    "            raise Exception(f\"File missing: {file_path}\")\n",
    "        is_dir = True if os.path.isdir(file_path) else False\n",
    "        name = \"folder\" if is_dir else \"file\"\n",
    "        print(f\"Validating {name}: {path}\")\n",
    "        perm_file = actual_file_paths[path]\n",
    "        perm_file_path = user_path / Path(perm_file)\n",
    "        if not os.path.exists(perm_file_path):\n",
    "            raise Exception(f\"Missing perm file for user: {path} at: {user_path}/{perm_file}\")\n",
    "\n",
    "        validate_perm_file(perm_file_path, user)"
   ]
  },
  {
   "cell_type": "code",
   "execution_count": null,
   "id": "a18225a9-261d-4a3d-b30f-89c2b9a253b5",
   "metadata": {},
   "outputs": [],
   "source": []
  },
  {
   "cell_type": "code",
   "execution_count": 212,
   "id": "36f66c5d-ae40-49d8-abb3-cae5eddce1b4",
   "metadata": {},
   "outputs": [],
   "source": [
    "diff = repo.git.diff('--cached')"
   ]
  },
  {
   "cell_type": "code",
   "execution_count": 214,
   "id": "47c4b1fd-f2f8-432b-aea1-4de8dd84ccd0",
   "metadata": {},
   "outputs": [],
   "source": [
    "def make_patch(user):\n",
    "    repo = git_repo_for_user(user)\n",
    "    file_diffs = repo.head.commit.diff(None)\n",
    "    validate_diffs(file_diffs, user)\n",
    "    diff = repo.git.diff('--cached')\n",
    "    with open(f\"./{user}.patch\", \"w\") as f:\n",
    "        f.write(diff)"
   ]
  },
  {
   "cell_type": "code",
   "execution_count": 215,
   "id": "12e22bf8-1709-4b0c-bc25-f89c7ad891c9",
   "metadata": {},
   "outputs": [
    {
     "name": "stdout",
     "output_type": "stream",
     "text": [
      "Validating folder: store/prompts\n",
      "Validating file: store/prompts/prompts.csv\n"
     ]
    }
   ],
   "source": [
    "make_patch(madhava)"
   ]
  },
  {
   "cell_type": "code",
   "execution_count": null,
   "id": "b1123647-1b61-4ebe-b8e2-fba9556e6b20",
   "metadata": {},
   "outputs": [],
   "source": []
  },
  {
   "cell_type": "code",
   "execution_count": null,
   "id": "39476b95-827e-481c-a943-a20879132789",
   "metadata": {},
   "outputs": [],
   "source": []
  }
 ],
 "metadata": {
  "kernelspec": {
   "display_name": "Python 3 (ipykernel)",
   "language": "python",
   "name": "python3"
  },
  "language_info": {
   "codemirror_mode": {
    "name": "ipython",
    "version": 3
   },
   "file_extension": ".py",
   "mimetype": "text/x-python",
   "name": "python",
   "nbconvert_exporter": "python",
   "pygments_lexer": "ipython3",
   "version": "3.12.2"
  }
 },
 "nbformat": 4,
 "nbformat_minor": 5
}
