{
 "cells": [
  {
   "cell_type": "code",
   "execution_count": 22,
   "id": "6a46c4f7-6570-4087-9f80-012cf3270e66",
   "metadata": {},
   "outputs": [],
   "source": [
    "#!pip install gitpython"
   ]
  },
  {
   "cell_type": "code",
   "execution_count": 298,
   "id": "b8654bf1-da5b-459d-9ff6-386d05fa9301",
   "metadata": {},
   "outputs": [],
   "source": [
    "import os\n",
    "from pathlib import Path\n",
    "import json\n",
    "from git import Repo\n",
    "import datetime"
   ]
  },
  {
   "cell_type": "code",
   "execution_count": 306,
   "id": "b661f80e-d7cd-4783-a21b-afc2cb9ed6db",
   "metadata": {},
   "outputs": [],
   "source": [
    "madhava = \"@madhava@syft-cache.org\"\n",
    "andrew = \"@trask@syft-cache.org\""
   ]
  },
  {
   "cell_type": "code",
   "execution_count": 15,
   "id": "d5a3d6fa-bbe7-4583-a636-6ddcec989701",
   "metadata": {},
   "outputs": [
    {
     "data": {
      "text/plain": [
       "PosixPath('/Users/madhavajay/dev/syft')"
      ]
     },
     "execution_count": 15,
     "metadata": {},
     "output_type": "execute_result"
    }
   ],
   "source": [
    "HERE=!pwd\n",
    "HERE = Path(HERE[0])\n",
    "HERE"
   ]
  },
  {
   "cell_type": "code",
   "execution_count": 18,
   "id": "52d1e9e6-121a-4417-9b68-dd0b6e521340",
   "metadata": {},
   "outputs": [
    {
     "data": {
      "text/plain": [
       "PosixPath('/Users/madhavajay/dev/syft/test_env')"
      ]
     },
     "execution_count": 18,
     "metadata": {},
     "output_type": "execute_result"
    }
   ],
   "source": [
    "SYFT_HOME = HERE / \"test_env\"\n",
    "SYFT_HOME"
   ]
  },
  {
   "cell_type": "code",
   "execution_count": 141,
   "id": "3f3c050c-88f5-488e-991b-0d3e4fc4352b",
   "metadata": {},
   "outputs": [],
   "source": [
    "READ_PERMISSION = \"r\"\n",
    "WRITE_PERMISSION = \"w\""
   ]
  },
  {
   "cell_type": "code",
   "execution_count": 176,
   "id": "654b089d-1996-481c-96a9-846667a5a4a7",
   "metadata": {},
   "outputs": [],
   "source": [
    "default_permissions = {READ_PERMISSION:[], WRITE_PERMISSION: []}"
   ]
  },
  {
   "cell_type": "code",
   "execution_count": null,
   "id": "8ff96551-4def-4924-800a-0912a00dbba6",
   "metadata": {},
   "outputs": [],
   "source": []
  },
  {
   "cell_type": "code",
   "execution_count": 177,
   "id": "2b5c2d11-95a5-447a-a698-efd791448056",
   "metadata": {},
   "outputs": [],
   "source": [
    "def git_repo_path_for_user(user, syft_home=SYFT_HOME):\n",
    "    return syft_home / user"
   ]
  },
  {
   "cell_type": "code",
   "execution_count": 178,
   "id": "4c319455-9903-4fb8-b857-918f43e43629",
   "metadata": {},
   "outputs": [],
   "source": [
    "def git_repo_for_user(user, syft_home=SYFT_HOME):\n",
    "    git_path = git_repo_path_for_user(user, syft_home=syft_home)\n",
    "    repo = Repo(git_path)\n",
    "    return repo"
   ]
  },
  {
   "cell_type": "code",
   "execution_count": 207,
   "id": "63971cde-4141-4d33-b6b3-36d9dd855506",
   "metadata": {},
   "outputs": [],
   "source": [
    "def user_permission_allowed(permissions, user, permission):\n",
    "    perm = permissions[permission]\n",
    "    return user in perm or \"*\" in perm"
   ]
  },
  {
   "cell_type": "code",
   "execution_count": 208,
   "id": "0257d64f-e3da-4303-838c-1ee1ebe113f7",
   "metadata": {},
   "outputs": [],
   "source": [
    "def validate_perm_file(perm_file_path, user):\n",
    "    # trigger warning\n",
    "    with open(perm_file_path, \"r\") as f:\n",
    "        perms = default_permissions\n",
    "        try:\n",
    "            json_data = json.loads(f.read())\n",
    "        except Exception as e:\n",
    "            json_data = perms\n",
    "        perms.update(json_data)\n",
    "        \n",
    "    allowed = user_permission_allowed(perms, user, WRITE_PERMISSION)\n",
    "    if not allowed:\n",
    "        file_path = str(perm_file_path).replace(\".syftperm\", \"\")\n",
    "        raise Exception(f\"User: {user} does not have {WRITE_PERMISSION} for {file_path}\")"
   ]
  },
  {
   "cell_type": "code",
   "execution_count": 286,
   "id": "da4a2daf-05a3-4f74-accc-885f17d55d17",
   "metadata": {},
   "outputs": [],
   "source": [
    "def validate_diffs(file_diffs, user_repo, as_user) -> bool:\n",
    "    # split perm and non perm folder / files from the diff\n",
    "    permission_file_paths = {}\n",
    "    actual_file_paths = {}\n",
    "    \n",
    "    # build the two dicts\n",
    "    for diff in file_diffs:\n",
    "        path = diff.b_path\n",
    "        if path.endswith(\".syftperm\"):\n",
    "            actual = path.replace(\".syftperm\", \"\")\n",
    "            if path not in permission_file_paths:\n",
    "                permission_file_paths[path] = actual\n",
    "            if path not in actual_file_paths:\n",
    "                actual_file_paths[actual] = path\n",
    "        else:\n",
    "            perm = path + \".syftperm\"\n",
    "            if path not in permission_file_paths:\n",
    "                permission_file_paths[perm] = path\n",
    "            if path not in actual_file_paths:\n",
    "                actual_file_paths[path] = perm\n",
    "    user_path = git_repo_path_for_user(user_repo)\n",
    "    for path in actual_file_paths.keys():\n",
    "        file_path = user_path / Path(path)\n",
    "        exists = True if os.path.exists(file_path) else False\n",
    "        if not exists:\n",
    "            raise Exception(f\"File missing: {file_path}\")\n",
    "        is_dir = True if os.path.isdir(file_path) else False\n",
    "        name = \"folder\" if is_dir else \"file\"\n",
    "        print(f\"Validating {name}: {path}\")\n",
    "        perm_file = actual_file_paths[path]\n",
    "        perm_file_path = user_path / Path(perm_file)\n",
    "        if not os.path.exists(perm_file_path):\n",
    "            raise Exception(f\"Missing perm file for user: {path} at: {user_path}/{perm_file}\")\n",
    "\n",
    "        validate_perm_file(perm_file_path, as_user)\n",
    "    return True"
   ]
  },
  {
   "cell_type": "code",
   "execution_count": 299,
   "id": "6c2812a2-4345-4f81-97c1-12d57b01b3a9",
   "metadata": {},
   "outputs": [],
   "source": [
    "def syt_stage(repo_user, as_user):\n",
    "    patches_dir = f\"./patch_{repo_user}\"\n",
    "    os.makedirs(patches_dir, exist_ok=True)\n",
    "    repo = git_repo_for_user(repo_user)\n",
    "    file_diffs = repo.head.commit.diff(None)\n",
    "    if len(file_diffs) == 0:\n",
    "        print(\"Nothing to commit\")\n",
    "        return False\n",
    "\n",
    "    return validate_diffs(file_diffs, repo_user, as_user)"
   ]
  },
  {
   "cell_type": "code",
   "execution_count": 301,
   "id": "b1123647-1b61-4ebe-b8e2-fba9556e6b20",
   "metadata": {},
   "outputs": [],
   "source": [
    "def syt_commit(repo_user, as_user, message):\n",
    "    patches_dir = f\"./patch_{repo_user}\"\n",
    "    if not syt_stage(repo_user, as_user):\n",
    "        return\n",
    "\n",
    "    new_commit = repo.index.commit(message)\n",
    "\n",
    "    commit_hash = new_commit.hexsha\n",
    "    print(f\"Commit hash: {commit_hash}\")\n",
    "\n",
    "    existing_files = [f for f in os.listdir(patches_dir) if commit_hash in f]\n",
    "    if existing_files:\n",
    "        print(f\"Patch with the commit hash: {commit_hash} already exists\")\n",
    "        return\n",
    "    patch_content = repo.git.show(new_commit)\n",
    "\n",
    "    current_timestamp = int(datetime.datetime.now(datetime.timezone.utc).timestamp())\n",
    "    patch_file = f\"{patches_dir}/{current_timestamp}-{commit_hash}\"\n",
    "    print(f\"Writing patch to:{patch_file}\")\n",
    "\n",
    "    with open(patch_file, \"w\") as f:\n",
    "        f.write(patch_content)"
   ]
  },
  {
   "cell_type": "code",
   "execution_count": 302,
   "id": "f16849b5-6108-4d8c-a97f-1d246f75d2ad",
   "metadata": {},
   "outputs": [
    {
     "name": "stdout",
     "output_type": "stream",
     "text": [
      "Validating folder: store/prompts\n",
      "Validating file: store/prompts/prompts.csv\n"
     ]
    },
    {
     "data": {
      "text/plain": [
       "True"
      ]
     },
     "execution_count": 302,
     "metadata": {},
     "output_type": "execute_result"
    }
   ],
   "source": [
    "syt_stage(madhava, madhava)"
   ]
  },
  {
   "cell_type": "code",
   "execution_count": 303,
   "id": "ebc0518e-4856-40dd-bd7b-3013e38080b5",
   "metadata": {},
   "outputs": [
    {
     "name": "stdout",
     "output_type": "stream",
     "text": [
      "Validating folder: store/prompts\n",
      "Validating file: store/prompts/prompts.csv\n",
      "Commit hash: 973cd7ca6e501f9953ea3ed699cbcdb5c4db74af\n",
      "Writing patch to:./patch_@madhava@syft-cache.org/1723768647-973cd7ca6e501f9953ea3ed699cbcdb5c4db74af\n"
     ]
    }
   ],
   "source": [
    "syt_commit(madhava, madhava, \"Adding store files\")"
   ]
  },
  {
   "cell_type": "code",
   "execution_count": null,
   "id": "e4332b57-b15b-48d6-bd72-121ce43d7adf",
   "metadata": {},
   "outputs": [],
   "source": []
  },
  {
   "cell_type": "code",
   "execution_count": 310,
   "id": "022f48f7-67d6-40f2-8232-e120c451f88d",
   "metadata": {},
   "outputs": [
    {
     "name": "stdout",
     "output_type": "stream",
     "text": [
      "Validating folder: projects/my_first_project/chat_madhava_trask\n",
      "Validating file: projects/my_first_project/chat_madhava_trask/msg1.txt\n"
     ]
    },
    {
     "data": {
      "text/plain": [
       "True"
      ]
     },
     "execution_count": 310,
     "metadata": {},
     "output_type": "execute_result"
    }
   ],
   "source": [
    "syt_stage(andrew, andrew)"
   ]
  },
  {
   "cell_type": "code",
   "execution_count": 314,
   "id": "7e6fcfce-9e5b-4542-8045-31cf573904e0",
   "metadata": {},
   "outputs": [
    {
     "name": "stdout",
     "output_type": "stream",
     "text": [
      "Validating folder: projects/my_first_project/chat_madhava_trask\n",
      "Validating file: projects/my_first_project/chat_madhava_trask/msg1.txt\n",
      "Commit hash: 65499dcdfe2bf4bcb204affb65a174e9aef2bc7c\n",
      "Writing patch to:./patch_@trask@syft-cache.org/1723769252-65499dcdfe2bf4bcb204affb65a174e9aef2bc7c\n"
     ]
    }
   ],
   "source": [
    "syt_commit(andrew, andrew, \"Added chat with Madhava\")"
   ]
  },
  {
   "cell_type": "code",
   "execution_count": null,
   "id": "c6bdb20c-1299-4a98-b6f7-dbc090d5378f",
   "metadata": {},
   "outputs": [],
   "source": []
  },
  {
   "cell_type": "code",
   "execution_count": null,
   "id": "ec64805e-2d17-4603-91bd-0a73f3f2f975",
   "metadata": {},
   "outputs": [],
   "source": []
  },
  {
   "cell_type": "code",
   "execution_count": null,
   "id": "eafa00ad-5b1e-4ea2-aa9e-9991d3143477",
   "metadata": {},
   "outputs": [],
   "source": []
  },
  {
   "cell_type": "code",
   "execution_count": 304,
   "id": "851fd86e-728e-448f-a370-41218bc14dd5",
   "metadata": {},
   "outputs": [],
   "source": [
    "# import hashlib\n",
    "\n",
    "# def simulate_commit_hash(repo, commit_message):\n",
    "#     # Get the tree hash of the staged changes\n",
    "#     tree_hash = repo.index.write_tree()\n",
    "\n",
    "#     # Get the parent commit hash (usually the latest commit)\n",
    "#     parent_commit = repo.head.commit.hexsha\n",
    "\n",
    "#     # Prepare the commit content\n",
    "#     commit_content = f\"tree {tree_hash}\\n\"\n",
    "#     commit_content += f\"parent {parent_commit}\\n\"\n",
    "#     commit_content += f\"author {repo.config_reader().get_value('user', 'name')} <{repo.config_reader().get_value('user', 'email')}> {int(datetime.datetime.now().timestamp())} +0000\\n\"\n",
    "#     commit_content += f\"committer {repo.config_reader().get_value('user', 'name')} <{repo.config_reader().get_value('user', 'email')}> {int(datetime.datetime.now().timestamp())} +0000\\n\\n\"\n",
    "#     commit_content += f\"{commit_message}\\n\"\n",
    "\n",
    "#     # Calculate the commit hash\n",
    "#     commit_hash = hashlib.sha1(f\"commit {len(commit_content)}\\0{commit_content}\".encode()).hexdigest()\n",
    "\n",
    "#     return commit_hash"
   ]
  },
  {
   "cell_type": "code",
   "execution_count": null,
   "id": "2e58465a-353f-4ef9-a58d-da0978d1dea3",
   "metadata": {},
   "outputs": [],
   "source": []
  }
 ],
 "metadata": {
  "kernelspec": {
   "display_name": "Python 3 (ipykernel)",
   "language": "python",
   "name": "python3"
  },
  "language_info": {
   "codemirror_mode": {
    "name": "ipython",
    "version": 3
   },
   "file_extension": ".py",
   "mimetype": "text/x-python",
   "name": "python",
   "nbconvert_exporter": "python",
   "pygments_lexer": "ipython3",
   "version": "3.12.2"
  }
 },
 "nbformat": 4,
 "nbformat_minor": 5
}
