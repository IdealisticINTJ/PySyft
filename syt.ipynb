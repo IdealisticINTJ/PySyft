{
 "cells": [
  {
   "cell_type": "code",
   "execution_count": 1,
   "id": "42a9c281-cc47-4251-911a-d6f6e47d0365",
   "metadata": {},
   "outputs": [],
   "source": [
    "from pathlib import Path\n",
    "import os"
   ]
  },
  {
   "cell_type": "code",
   "execution_count": 2,
   "id": "33773fd4-e275-4034-aa74-9ab0ca33fcde",
   "metadata": {},
   "outputs": [
    {
     "data": {
      "text/plain": [
       "PosixPath('/Users/atrask/Documents/GitHub/syft')"
      ]
     },
     "execution_count": 2,
     "metadata": {},
     "output_type": "execute_result"
    }
   ],
   "source": [
    "HERE=!pwd\n",
    "HERE = Path(HERE[0])\n",
    "HERE"
   ]
  },
  {
   "cell_type": "code",
   "execution_count": 3,
   "id": "65463a73-f8e5-4667-9a2f-e7188adcbe87",
   "metadata": {},
   "outputs": [],
   "source": [
    "os.environ[\"SYFT_HOME\"] = str(HERE / \"andrew_env\")"
   ]
  },
  {
   "cell_type": "code",
   "execution_count": 4,
   "id": "f3f9f4a6-e7b1-4c57-b34f-debec097b988",
   "metadata": {},
   "outputs": [],
   "source": [
    "madhava = \"@madhava@syft-cache.org\"\n",
    "andrew = \"@trask@syft-cache.org\""
   ]
  },
  {
   "cell_type": "code",
   "execution_count": 5,
   "id": "23c12e33-4de8-4b48-9672-34ef3f1fb15a",
   "metadata": {},
   "outputs": [
    {
     "name": "stdout",
     "output_type": "stream",
     "text": [
      "Using: /Users/atrask/Documents/GitHub/syft/andrew_env\n"
     ]
    }
   ],
   "source": [
    "from syt import *\n",
    "from syt import syt_stage"
   ]
  },
  {
   "cell_type": "code",
   "execution_count": 6,
   "id": "f0215cae-b3a8-4c90-a192-7c67ef2ba459",
   "metadata": {},
   "outputs": [],
   "source": [
    "# assert False"
   ]
  },
  {
   "cell_type": "code",
   "execution_count": 14,
   "id": "1cbd6852-de55-47ee-9842-a5d007be7161",
   "metadata": {},
   "outputs": [],
   "source": [
    "# syt_stage(andrew, madhava)"
   ]
  },
  {
   "cell_type": "code",
   "execution_count": 19,
   "id": "c9931564-0db7-4e24-ad43-244429ee7609",
   "metadata": {},
   "outputs": [
    {
     "name": "stdout",
     "output_type": "stream",
     "text": [
      "/Users/atrask/Dropbox/syft_network/patch_@trask@syft-cache.org\n",
      "Nothing to commit\n"
     ]
    },
    {
     "data": {
      "text/plain": [
       "False"
      ]
     },
     "execution_count": 19,
     "metadata": {},
     "output_type": "execute_result"
    }
   ],
   "source": [
    "syt_stage(andrew, madhava)"
   ]
  },
  {
   "cell_type": "code",
   "execution_count": 18,
   "id": "b18ca5c4-2953-4e6e-a18e-f03d6f2df446",
   "metadata": {},
   "outputs": [
    {
     "name": "stdout",
     "output_type": "stream",
     "text": [
      "/Users/atrask/Dropbox/syft_network/patch_@trask@syft-cache.org\n",
      "Validating file: projects/my_first_project/chat_madhava_trask/msg1.txt\n",
      "Commit hash: 6556aaf13ee8dba2254946e98db5efebc79969f2\n",
      "Writing patch to:/Users/atrask/Dropbox/syft_network/patch_@trask@syft-cache.org/1723778447-6556aaf13ee8dba2254946e98db5efebc79969f2\n"
     ]
    }
   ],
   "source": [
    "syt_commit(andrew, andrew, \"Responding\")"
   ]
  },
  {
   "cell_type": "code",
   "execution_count": 9,
   "id": "db8a9072-1cb3-4317-80b9-9babc467a092",
   "metadata": {},
   "outputs": [
    {
     "name": "stdout",
     "output_type": "stream",
     "text": [
      "patches_dir /Users/atrask/Dropbox/syft_network/patch_@trask@syft-cache.org\n"
     ]
    }
   ],
   "source": [
    "commit_path = get_patch_path(\"b0a\")"
   ]
  },
  {
   "cell_type": "code",
   "execution_count": 10,
   "id": "116bfdf1-e2a4-43b8-90fe-3ab09c865683",
   "metadata": {},
   "outputs": [
    {
     "data": {
      "text/plain": [
       "PosixPath('/Users/atrask/Dropbox/syft_network/patch_@trask@syft-cache.org/1723777388-b0aadf2dcb0ced0e3aa40fad0ebcccd081039f28')"
      ]
     },
     "execution_count": 10,
     "metadata": {},
     "output_type": "execute_result"
    }
   ],
   "source": [
    "commit_path"
   ]
  },
  {
   "cell_type": "code",
   "execution_count": 13,
   "id": "f714140c-ff13-469c-b0f6-b3d38e9e325b",
   "metadata": {},
   "outputs": [
    {
     "name": "stdout",
     "output_type": "stream",
     "text": [
      "patches_dir /Users/atrask/Dropbox/syft_network/patch_@trask@syft-cache.org\n",
      "Validating file: projects/my_first_project/chat_madhava_trask/msg1.txt\n",
      "Applying patch: b0a from @madhava@syft-cache.org\n"
     ]
    }
   ],
   "source": [
    "apply_patch(\"b0a\", andrew)"
   ]
  },
  {
   "cell_type": "code",
   "execution_count": null,
   "id": "92b2ea5a-e783-4b52-9852-1af05825a596",
   "metadata": {},
   "outputs": [],
   "source": []
  }
 ],
 "metadata": {
  "kernelspec": {
   "display_name": "Python 3 (ipykernel)",
   "language": "python",
   "name": "python3"
  },
  "language_info": {
   "codemirror_mode": {
    "name": "ipython",
    "version": 3
   },
   "file_extension": ".py",
   "mimetype": "text/x-python",
   "name": "python",
   "nbconvert_exporter": "python",
   "pygments_lexer": "ipython3",
   "version": "3.10.9"
  }
 },
 "nbformat": 4,
 "nbformat_minor": 5
}
