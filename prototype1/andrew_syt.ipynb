{
 "cells": [
  {
   "cell_type": "code",
   "execution_count": 1,
   "id": "6a46c4f7-6570-4087-9f80-012cf3270e66",
   "metadata": {},
   "outputs": [],
   "source": [
    "#!pip install gitpython\n",
    "# !pip install unidiff"
   ]
  },
  {
   "cell_type": "code",
   "execution_count": 49,
   "id": "b8654bf1-da5b-459d-9ff6-386d05fa9301",
   "metadata": {},
   "outputs": [],
   "source": [
    "import os\n",
    "from pathlib import Path\n",
    "import json\n",
    "from git import Repo\n",
    "import datetime\n",
    "\n",
    "from syt import *"
   ]
  },
  {
   "cell_type": "code",
   "execution_count": 50,
   "id": "b661f80e-d7cd-4783-a21b-afc2cb9ed6db",
   "metadata": {},
   "outputs": [],
   "source": [
    "madhava = \"@madhava@syft-cache.org\"\n",
    "andrew = \"@trask@syft-cache.org\""
   ]
  },
  {
   "cell_type": "code",
   "execution_count": 51,
   "id": "0c93ded9-9b0c-4472-a917-0bb500d5d53e",
   "metadata": {},
   "outputs": [],
   "source": [
    "author_user = {\n",
    "    \"me@madhavajay.com\":madhava\n",
    "}"
   ]
  },
  {
   "cell_type": "code",
   "execution_count": null,
   "id": "6ac2c603-0401-4c80-a22f-0ee8911d8764",
   "metadata": {},
   "outputs": [],
   "source": []
  },
  {
   "cell_type": "code",
   "execution_count": null,
   "id": "382ce721-0d15-4661-95db-eafa9adf00c0",
   "metadata": {},
   "outputs": [],
   "source": []
  },
  {
   "cell_type": "code",
   "execution_count": 52,
   "id": "d5a3d6fa-bbe7-4583-a636-6ddcec989701",
   "metadata": {},
   "outputs": [
    {
     "data": {
      "text/plain": [
       "PosixPath('/Users/madhavajay/dev/syft')"
      ]
     },
     "execution_count": 52,
     "metadata": {},
     "output_type": "execute_result"
    }
   ],
   "source": [
    "HERE=!pwd\n",
    "HERE = Path(HERE[0])\n",
    "HERE"
   ]
  },
  {
   "cell_type": "code",
   "execution_count": 53,
   "id": "52d1e9e6-121a-4417-9b68-dd0b6e521340",
   "metadata": {},
   "outputs": [
    {
     "data": {
      "text/plain": [
       "PosixPath('/Users/madhavajay/dev/syft/andrew_env')"
      ]
     },
     "execution_count": 53,
     "metadata": {},
     "output_type": "execute_result"
    }
   ],
   "source": [
    "SYFT_HOME_ANDREW = HERE / \"andrew_env\"\n",
    "SYFT_HOME_ANDREW"
   ]
  },
  {
   "cell_type": "code",
   "execution_count": 54,
   "id": "344bdbcf-0a82-4b7a-ac88-36dc6331ecc6",
   "metadata": {},
   "outputs": [],
   "source": [
    "SYFT_HOME = SYFT_HOME_ANDREW"
   ]
  },
  {
   "cell_type": "code",
   "execution_count": 55,
   "id": "3f3c050c-88f5-488e-991b-0d3e4fc4352b",
   "metadata": {},
   "outputs": [],
   "source": []
  },
  {
   "cell_type": "code",
   "execution_count": 56,
   "id": "654b089d-1996-481c-96a9-846667a5a4a7",
   "metadata": {},
   "outputs": [],
   "source": []
  },
  {
   "cell_type": "code",
   "execution_count": null,
   "id": "8ff96551-4def-4924-800a-0912a00dbba6",
   "metadata": {},
   "outputs": [],
   "source": []
  },
  {
   "cell_type": "code",
   "execution_count": null,
   "id": "f16849b5-6108-4d8c-a97f-1d246f75d2ad",
   "metadata": {},
   "outputs": [],
   "source": [
    "syt_stage(madhava, madhava)"
   ]
  },
  {
   "cell_type": "code",
   "execution_count": null,
   "id": "ebc0518e-4856-40dd-bd7b-3013e38080b5",
   "metadata": {},
   "outputs": [],
   "source": [
    "syt_commit(madhava, madhava, \"Adding store files\")"
   ]
  },
  {
   "cell_type": "code",
   "execution_count": null,
   "id": "e4332b57-b15b-48d6-bd72-121ce43d7adf",
   "metadata": {},
   "outputs": [],
   "source": []
  },
  {
   "cell_type": "code",
   "execution_count": null,
   "id": "022f48f7-67d6-40f2-8232-e120c451f88d",
   "metadata": {},
   "outputs": [],
   "source": [
    "syt_stage(andrew, andrew)"
   ]
  },
  {
   "cell_type": "code",
   "execution_count": null,
   "id": "7e6fcfce-9e5b-4542-8045-31cf573904e0",
   "metadata": {},
   "outputs": [],
   "source": [
    "syt_commit(andrew, andrew, \"Added chat with Madhava\")"
   ]
  },
  {
   "cell_type": "code",
   "execution_count": null,
   "id": "99777baf-c1c9-4806-89a3-68493bbd447f",
   "metadata": {},
   "outputs": [],
   "source": []
  },
  {
   "cell_type": "code",
   "execution_count": null,
   "id": "ec64805e-2d17-4603-91bd-0a73f3f2f975",
   "metadata": {},
   "outputs": [],
   "source": [
    "syt_stage(andrew, madhava)"
   ]
  },
  {
   "cell_type": "code",
   "execution_count": 17,
   "id": "bdd779b9-ba53-4f68-80a4-e5dc7498ed24",
   "metadata": {},
   "outputs": [],
   "source": []
  },
  {
   "cell_type": "code",
   "execution_count": 57,
   "id": "75316f04-a580-4df6-bb94-2f07b6a85a28",
   "metadata": {},
   "outputs": [
    {
     "data": {
      "text/plain": [
       "PosixPath('patch_@trask@syft-cache.org/1723773865-c0190c11f86669e990484496a5fcbb211f3c10d7')"
      ]
     },
     "execution_count": 57,
     "metadata": {},
     "output_type": "execute_result"
    }
   ],
   "source": [
    "patch_file = get_patch_path(\"c01\")\n",
    "patch_file"
   ]
  },
  {
   "cell_type": "code",
   "execution_count": 59,
   "id": "6ddf0648-9e33-4e03-a2ce-86f9e9c519d4",
   "metadata": {},
   "outputs": [
    {
     "name": "stdout",
     "output_type": "stream",
     "text": [
      "Validating file: projects/my_first_project/chat_madhava_trask/msg1.txt\n",
      "Applying patch: c01 from @madhava@syft-cache.org\n",
      "Patch already applied\n"
     ]
    }
   ],
   "source": [
    "apply_patch(\"c01\", andrew)"
   ]
  },
  {
   "cell_type": "code",
   "execution_count": null,
   "id": "2e58465a-353f-4ef9-a58d-da0978d1dea3",
   "metadata": {},
   "outputs": [],
   "source": []
  }
 ],
 "metadata": {
  "kernelspec": {
   "display_name": "Python 3 (ipykernel)",
   "language": "python",
   "name": "python3"
  },
  "language_info": {
   "codemirror_mode": {
    "name": "ipython",
    "version": 3
   },
   "file_extension": ".py",
   "mimetype": "text/x-python",
   "name": "python",
   "nbconvert_exporter": "python",
   "pygments_lexer": "ipython3",
   "version": "3.12.2"
  }
 },
 "nbformat": 4,
 "nbformat_minor": 5
}
