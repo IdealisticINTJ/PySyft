{
 "cells": [
  {
   "cell_type": "code",
   "execution_count": 2,
   "id": "af6ea6a1-757e-4f41-9677-a1fc4db61574",
   "metadata": {},
   "outputs": [],
   "source": [
    "# !pip install rumps pyinstaller\n"
   ]
  },
  {
   "cell_type": "code",
   "execution_count": null,
   "id": "95179e75-0e8b-4abf-adf4-c0e8d671b3ae",
   "metadata": {},
   "outputs": [],
   "source": []
  },
  {
   "cell_type": "code",
   "execution_count": null,
   "id": "f86008b6-fcce-4144-ab0c-bc8ebee11116",
   "metadata": {},
   "outputs": [],
   "source": []
  },
  {
   "cell_type": "code",
   "execution_count": 5,
   "id": "3d9bd368-908d-4336-8fca-bc0f04da5b97",
   "metadata": {},
   "outputs": [
    {
     "name": "stdout",
     "output_type": "stream",
     "text": [
      "Found existing installation: pathlib 1.0.1\n",
      "Uninstalling pathlib-1.0.1:\n",
      "  Would remove:\n",
      "    /Users/atrask/anaconda3/lib/python3.10/site-packages/pathlib-1.0.1.dist-info/*\n",
      "    /Users/atrask/anaconda3/lib/python3.10/site-packages/pathlib.py\n",
      "Proceed (Y/n)? ^C\n",
      "\u001b[31mERROR: Operation cancelled by user\u001b[0m\u001b[31m\n",
      "\u001b[0m"
     ]
    }
   ],
   "source": [
    "!pip uninstall pathlib\n"
   ]
  },
  {
   "cell_type": "code",
   "execution_count": 6,
   "id": "0718d137-342e-45fb-96e0-493ae343da12",
   "metadata": {},
   "outputs": [
    {
     "name": "stdout",
     "output_type": "stream",
     "text": [
      "Will remove 445 (595.8 MB) tarball(s).\n",
      "Proceed ([y]/n)? ^C\n",
      "\n",
      "CondaSystemExit: \n",
      "Operation aborted.  Exiting.\n",
      "\n"
     ]
    }
   ],
   "source": [
    "!conda clean --all\n"
   ]
  },
  {
   "cell_type": "code",
   "execution_count": null,
   "id": "8317bb32-0c6d-465c-ae56-707dcdd397ba",
   "metadata": {},
   "outputs": [],
   "source": []
  }
 ],
 "metadata": {
  "kernelspec": {
   "display_name": "Python 3 (ipykernel)",
   "language": "python",
   "name": "python3"
  },
  "language_info": {
   "codemirror_mode": {
    "name": "ipython",
    "version": 3
   },
   "file_extension": ".py",
   "mimetype": "text/x-python",
   "name": "python",
   "nbconvert_exporter": "python",
   "pygments_lexer": "ipython3",
   "version": "3.10.9"
  }
 },
 "nbformat": 4,
 "nbformat_minor": 5
}
